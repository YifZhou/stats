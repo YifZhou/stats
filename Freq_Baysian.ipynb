{
 "cells": [
  {
   "cell_type": "code",
   "execution_count": 1,
   "metadata": {
    "collapsed": true
   },
   "outputs": [],
   "source": [
    "from __future__ import division, print_function\n",
    "import numpy as np\n",
    "import matplotlib.pyplot as plt\n",
    "%matplotlib osx"
   ]
  },
  {
   "cell_type": "markdown",
   "metadata": {},
   "source": [
    "## Frequency\n",
    "$$\n",
    "\\newcommand{\\dd}{{\\mathrm{d}}}\n",
    "\\int_{-\\infty}^\\infty P(x) H[P(x) - P(x-\\epsilon_0)] \\dd x\n",
    "$$"
   ]
  },
  {
   "cell_type": "code",
   "execution_count": 2,
   "metadata": {
    "collapsed": true
   },
   "outputs": [],
   "source": [
    "def gaussian(x):\n",
    "    return 1 / np.sqrt(2 * np.pi) * np.exp(-x**2 / 2)"
   ]
  },
  {
   "cell_type": "code",
   "execution_count": 3,
   "metadata": {
    "collapsed": false
   },
   "outputs": [
    {
     "data": {
      "text/plain": [
       "array([ 1.,  2.])"
      ]
     },
     "execution_count": 3,
     "metadata": {},
     "output_type": "execute_result"
    }
   ],
   "source": [
    "np.linspace(1, 2, 2.5)"
   ]
  },
  {
   "cell_type": "code",
   "execution_count": 4,
   "metadata": {
    "collapsed": false
   },
   "outputs": [
    {
     "name": "stdout",
     "output_type": "stream",
     "text": [
      "\u001b[34mFeb1\u001b[m\u001b[m/                            \u001b[34mJan25\u001b[m\u001b[m/\r\n",
      "\u001b[34mFeb15\u001b[m\u001b[m/                           Probability Distributions.ipynb\r\n",
      "Freq_Baysian.ipynb               RandomNumber.ipynb\r\n",
      "\u001b[34mHW1\u001b[m\u001b[m/                             readme.md\r\n"
     ]
    }
   ],
   "source": [
    "ls"
   ]
  },
  {
   "cell_type": "code",
   "execution_count": 29,
   "metadata": {
    "collapsed": false
   },
   "outputs": [
    {
     "name": "stdout",
     "output_type": "stream",
     "text": [
      "1$sigma$, 0.682647823, 0.317352177 0.682689492 0.317310508\n",
      "2$sigma$, 0.954485172, 0.045514828 0.954499736 0.045500264\n",
      "3$sigma$, 0.997295131, 0.002704869 0.997300204 0.002699796\n",
      "4$sigma$, 0.999934750, 0.000065250 0.999936658 0.000063342\n",
      "5$sigma$, 0.999998664, 0.000001336 0.999999427 0.000000573\n"
     ]
    }
   ],
   "source": [
    "%run Feb15/Integrate_Gaussian.py"
   ]
  },
  {
   "cell_type": "code",
   "execution_count": 12,
   "metadata": {
    "collapsed": false
   },
   "outputs": [
    {
     "name": "stdout",
     "output_type": "stream",
     "text": [
      "[ 0.24233141] [ 0.23540766]\n",
      "[ 1.4578027] [ 3.57036765]\n"
     ]
    }
   ],
   "source": [
    "%run Feb15/2step_method.py"
   ]
  },
  {
   "cell_type": "code",
   "execution_count": null,
   "metadata": {
    "collapsed": true
   },
   "outputs": [],
   "source": []
  }
 ],
 "metadata": {
  "kernelspec": {
   "display_name": "Python 2",
   "language": "python",
   "name": "python2"
  },
  "language_info": {
   "codemirror_mode": {
    "name": "ipython",
    "version": 2
   },
   "file_extension": ".py",
   "mimetype": "text/x-python",
   "name": "python",
   "nbconvert_exporter": "python",
   "pygments_lexer": "ipython2",
   "version": "2.7.11"
  }
 },
 "nbformat": 4,
 "nbformat_minor": 0
}
