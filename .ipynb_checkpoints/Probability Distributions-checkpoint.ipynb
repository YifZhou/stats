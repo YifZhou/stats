{
 "cells": [
  {
   "cell_type": "markdown",
   "metadata": {},
   "source": [
    "\\begin{align}\n",
    "\\newcommand{\\dd}{\\mathrm{d}}\n",
    "P(x)\\dd x -> P(y) \\dd y \\\\\n",
    "\\end{align}\n",
    "\n",
    "* Exponential\n",
    "$$P(y) = \\frac{1}{a} \\exp(-y/a)$$\n",
    "\\begin{align}\n",
    "x &= \\int P(y) dy \\\\\n",
    "x &= - exp{-y/a}\\\\\n",
    "y &= - a\\ln(x)\n",
    "\\end{align}"
   ]
  },
  {
   "cell_type": "code",
   "execution_count": 1,
   "metadata": {
    "collapsed": true
   },
   "outputs": [],
   "source": [
    "import numpy as np\n",
    "import matplotlib.pyplot as plt\n",
    "%matplotlib osx"
   ]
  },
  {
   "cell_type": "code",
   "execution_count": 5,
   "metadata": {
    "collapsed": false
   },
   "outputs": [
    {
     "name": "stdout",
     "output_type": "stream",
     "text": [
      "[Errno 2] No such file or directory: 'Jan25'\n",
      "/Users/ZhouYf/Documents/Course/stats/Jan25\n"
     ]
    }
   ],
   "source": [
    "cd Jan25"
   ]
  },
  {
   "cell_type": "code",
   "execution_count": 11,
   "metadata": {
    "collapsed": false
   },
   "outputs": [],
   "source": [
    "%run exponentialDist.py"
   ]
  },
  {
   "cell_type": "markdown",
   "metadata": {},
   "source": [
    "## Uniform to Gaussian\n",
    "\n",
    "* Box-Mulder\n",
    "$(x_1, x_2) -> y_1 = \\sqrt{-2\\ln(x_1)}\\,\\cos(2\\pi x_2), y_2 = \\sqrt{-2\\ln(x_1)}\\,\\sin(2\\pi x_2)$"
   ]
  },
  {
   "cell_type": "code",
   "execution_count": 20,
   "metadata": {
    "collapsed": true
   },
   "outputs": [],
   "source": [
    "%run gaussian.py"
   ]
  },
  {
   "cell_type": "markdown",
   "metadata": {},
   "source": [
    "## Central limit theorem\n",
    "if we take $N$ independent variables ($x_1, x_2, \\cdots, x_N$), for $Y_n$,\n",
    "$$\n",
    "Y_n = \\frac{1}{n}\\sum_{i=1}^{N}x_N\n",
    "$$\n",
    "is Gausssian distribution\n",
    "## Berry-Esséen theorem\n",
    "$F_n(x) - \\Phi_n(x) \\le \\frac{C\\,p}{\\sigma^2\\sqrt{n}}$    \n",
    "$p$ third moment of the distribution   \n",
    "when CLT fail?\n",
    "* $p$ is infinate, but not physical"
   ]
  },
  {
   "cell_type": "markdown",
   "metadata": {},
   "source": [
    "## Maxwell-Boltzmann disbtribution\n",
    "$f(v) = \\left(\\frac{m}{2\\pi\\,k\\,T}4\\pi\\,v^2\\exp(\\frac{-mv^2}{2k\\,T})\\right)$\n",
    "formed by the combination fo three Gaussian distribution."
   ]
  },
  {
   "cell_type": "code",
   "execution_count": 25,
   "metadata": {
    "collapsed": false
   },
   "outputs": [],
   "source": [
    "%run maxwell.py"
   ]
  },
  {
   "cell_type": "markdown",
   "metadata": {},
   "source": [
    "## Rejection Method\n",
    "inject points\n",
    "### Binomial Distribution\n",
    "$$P(x;N) = ^x C_{N}\\,p^x\\,(1-p)^{(N-x)}$$ \n",
    "\n",
    "### Poisson Distribution\n"
   ]
  },
  {
   "cell_type": "code",
   "execution_count": null,
   "metadata": {
    "collapsed": true
   },
   "outputs": [],
   "source": []
  }
 ],
 "metadata": {
  "kernelspec": {
   "display_name": "Python 2",
   "language": "python",
   "name": "python2"
  },
  "language_info": {
   "codemirror_mode": {
    "name": "ipython",
    "version": 2
   },
   "file_extension": ".py",
   "mimetype": "text/x-python",
   "name": "python",
   "nbconvert_exporter": "python",
   "pygments_lexer": "ipython2",
   "version": "2.7.11"
  }
 },
 "nbformat": 4,
 "nbformat_minor": 0
}
