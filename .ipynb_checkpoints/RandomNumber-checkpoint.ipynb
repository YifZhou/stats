{
 "cells": [
  {
   "cell_type": "markdown",
   "metadata": {},
   "source": [
    "##  random number generator\n",
    "1. uniform distribution\n",
    "2. no correlation\n",
    "\n",
    "## Benford's law\n",
    "$P(kx) = f(k)P(x)$\n",
    "\\begin{equation}\n",
    "1 = \\int P(x)dx = \\int P(kx')dx'\n",
    "\\end{equation}\n",
    "$$\\implies f(x)=\\frac{1}{k}$$\n",
    "$$\\implies P(x) = \\frac{c}{x}$$\n",
    "So scale free likelihood requires the distribution to be $\\implies P(x) = frac{c}{x}$\n",
    "*****\n",
    "\n",
    "\\begin{equation}\n",
    "\\begin{split}\n",
    "P(kx) \n",
    "\\end{split}\n",
    "\\end{equation}\n",
    "\n",
    "## Linear Congruential Methods\n",
    "$$X_{n+1}=(aX_n + C) \\mathrm{mod} m$$\n",
    "* Period < $m$, but for simulation, it is expected $N^2\\ll m$\n",
    "* clustering, for $k$ sequential points, they falls on $m^{1/k}$ planes ($k-1$ dimension space)\n",
    "* efficiency\n",
    "* repeatability\n",
    "* portability\n",
    "$m$ largest prime number, $a$ relative large prime number\n",
    "* beyond LCM, non-linear methods, multiple reucursive methods"
   ]
  },
  {
   "cell_type": "code",
   "execution_count": null,
   "metadata": {
    "collapsed": true
   },
   "outputs": [],
   "source": []
  }
 ],
 "metadata": {
  "kernelspec": {
   "display_name": "Python 2",
   "language": "python",
   "name": "python2"
  },
  "language_info": {
   "codemirror_mode": {
    "name": "ipython",
    "version": 2
   },
   "file_extension": ".py",
   "mimetype": "text/x-python",
   "name": "python",
   "nbconvert_exporter": "python",
   "pygments_lexer": "ipython2",
   "version": "2.7.11"
  }
 },
 "nbformat": 4,
 "nbformat_minor": 0
}
