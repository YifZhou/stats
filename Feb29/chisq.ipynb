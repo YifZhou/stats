{
 "cells": [
  {
   "cell_type": "markdown",
   "metadata": {},
   "source": [
    "# Pearson $\\chi^2$ test\n",
    "**Assumptions**:  \n",
    "1. $\\Delta y \\gg \\Delta x$\n",
    "2. $y$ is a Gaussian distribution\n",
    "3. all data points are independent\n",
    "\n",
    "Given model: $y = y(x, m)$, based on above assumptions:\n",
    "\\begin{equation}\n",
    "\\begin{split}\n",
    "P_i &= \\frac{1}{\\sqrt{2\\pi\\,\\sigma_i^2}}\\exp(-\\frac{(y(x_i, m)-y_i)^2}{2\\sigma_i^2})\\\\\n",
    "P &= \\prod_i P_i\\\\\n",
    "&=\\prod_i \\frac{1}{\\sqrt{2\\pi\\,\\sigma_i^2}} \\exp\\Bigl(-\\frac{1}{2} \\sum_i \\frac{(y(x_i, m)-y_i)^2}{\\sigma_i^2}\\Bigr)\n",
    "\\end{split}\n",
    "\\end{equation}\n",
    "**Define $\\chi^2$**\n",
    "\\begin{equation}\n",
    "\\sum_i \\frac{(y(x_i, m)-y_i)^2}{\\sigma_i^2}\n",
    "\\end{equation}\n",
    "\n",
    "## if $y(x, m)=a + bx$ is a linear model:\n",
    "$S_x = \\sum_i\\frac{x_i}{\\sigma_i^2}$\n",
    "\\begin{align}\n",
    "\\Delta &= S\\,S_{xx} - S_x^2\\\\\n",
    "a &= \\frac{S_{xx}S_y - S_xS_{xy}}{\\Delta}\\\\\n",
    "b &= \\frac{S\\,S_{xy} - S_xS_y}{\\Delta}\\\\\n",
    "\\end{align}\n",
    "\n",
    "### Another form of expression\n",
    "\\begin{align}\n",
    "t_i &=\\frac{1}{\\sigma_i}\\Bigl[x_i - \\frac{S_x}{S}\\Bigr]\\\\\n",
    "S_{tt} & = \\sum_i t_i^2\\\\\n",
    "b & = \\frac{1}{S_{tt}} \\sum_i \\frac{t_i\\, y_i}{\\sigma_i}\\\\\n",
    "a & = \\frac{S_y -S_x\\,b}{S}\\\\\n",
    "\\end{align}"
   ]
  },
  {
   "cell_type": "code",
   "execution_count": 1,
   "metadata": {
    "collapsed": true
   },
   "outputs": [],
   "source": [
    "import numpy as np\n",
    "import matplotlib.pyplot as plt\n",
    "%matplotlib osx\n",
    "#plt.style.use('ggplot')\n",
    "import seaborn as sns"
   ]
  },
  {
   "cell_type": "code",
   "execution_count": 6,
   "metadata": {
    "collapsed": false
   },
   "outputs": [
    {
     "data": {
      "text/plain": [
       "<Container object of 3 artists>"
      ]
     },
     "execution_count": 6,
     "metadata": {},
     "output_type": "execute_result"
    }
   ],
   "source": [
    "x = np.linspace(1, 4, 10)\n",
    "sigma = 0.05\n",
    "\n",
    "\n",
    "def linearFit(x, y, sigma=1.0):\n",
    "    if type(sigma) is not list:\n",
    "        sigma = np.array([sigma] * len(x))\n",
    "    Sx = np.sum(x/sigma**2)\n",
    "    Sy = np.sum(y/sigma**2)\n",
    "    S = np.sum(1/sigma**2)\n",
    "    t = 1/sigma * (x - Sx/S)\n",
    "    Stt = np.sum(t**2)\n",
    "    b = 1.0/(Stt) * np.sum(t * y / sigma)\n",
    "    a = (Sy - Sx * b) / S\n",
    "\n",
    "    Sxx= np.sum(x**2/sigma**2)\n",
    "    Delta = S*Sxx - Sx**2\n",
    "    da = np.sqrt(Sxx/Delta)\n",
    "    db = np.sqrt(S/Delta)\n",
    "    return a, b, da, db\n",
    "\n",
    "aList = []\n",
    "bList = []\n",
    "daList = []\n",
    "dbList = []\n",
    "chisqList = []\n",
    "for i in xrange(10000):\n",
    "    y = 2*x + 1 + np.random.normal(0.0, scale = sigma, size = len(x))\n",
    "    a, b, da, db = linearFit(x, y, sigma)\n",
    "    chisq = np.sum((y - a - b*x)**2/sigma**2)\n",
    "    chisqList.append(chisq)\n",
    "    aList.append(a)\n",
    "    bList.append(b)\n",
    "    daList.append(da)\n",
    "    dbList.append(db)\n",
    "plt.close('all')   \n",
    "\n",
    "da = daList[0]\n",
    "db = dbList[0]\n",
    "fig = plt.figure(figsize=(12,6))\n",
    "ax1 = fig.add_subplot(121)\n",
    "na, bina = np.histogram(aList, bins=30)\n",
    "na = na/float(na.max())\n",
    "bina = (bina[:-1] + bina[1:])/2\n",
    "binsizea = bina[1] - bina[0]\n",
    "ax1.plot(bina + 0.5 * binsizea, na, linestyle='steps')\n",
    "ax1.plot(bina, np.exp(-(bina - 1.0)**2/(2*da**2)))\n",
    "ax1.set_xlabel('$a$')\n",
    "ax2 = fig.add_subplot(122)\n",
    "nb, binb = np.histogram(bList, bins=30)\n",
    "nb = nb/float(nb.max())\n",
    "binb = (binb[:-1] + binb[1:])/2\n",
    "binsizeb = binb[1] - binb[0]\n",
    "ax2.plot(binb + 0.5 * binsizeb, nb, linestyle='steps')\n",
    "ax2.plot(binb, np.exp(-(binb - 2.0)**2/(2*db**2)))\n",
    "ax2.set_xlabel('$b$')\n",
    "for ax in fig.axes:\n",
    "    ax.set_ylabel('P density')\n",
    "\n",
    "\n",
    "fig = plt.figure()\n",
    "ax = fig.add_subplot(111)\n",
    "ax.errorbar(aList, bList, xerr=da, yerr=db, fmt='.', ms=3, lw=0.1)"
   ]
  },
  {
   "cell_type": "markdown",
   "metadata": {},
   "source": [
    "## Error Estimation\n",
    "\\begin{equation}\n",
    "\\frac{\\partial{a}}{\\partial{y_i}} = \\frac{1}{\\Delta} [S_{xx}\\frac{1}{\\sigma_i^2}-S_x\\frac{x_i}{\\sigma_i^2}]\n",
    "\\end{equation}\n",
    "\\begin{align}\n",
    "\\sigma_a^2 &= \\frac{S_{xx}}{\\Delta}\\\\\n",
    "\\sigma_b^2 &= \\frac{S}{\\Delta}\n",
    "\\end{align}"
   ]
  },
  {
   "cell_type": "markdown",
   "metadata": {},
   "source": [
    "## Pearson's theorem\n",
    "Suppose there are $K$ independent varibles $Z_k$ with 0 mean Gaussian distribution\n",
    "$$\n",
    "x_K^2 = Q = \\sum_i Z_i^2\n",
    "$$\n",
    "$$\n",
    "P(x_K^2) = \\frac{1}{2^{K/2}\\Gamma(K/2)} \\, \\chi^{K/2 - 1} \\, \\exp(-\\chi/2)\n",
    "$$\n",
    "$P$ is called $\\chi^2$ distribution"
   ]
  },
  {
   "cell_type": "code",
   "execution_count": 10,
   "metadata": {
    "collapsed": false
   },
   "outputs": [
    {
     "data": {
      "text/plain": [
       "[<matplotlib.lines.Line2D at 0x1168c9190>]"
      ]
     },
     "execution_count": 10,
     "metadata": {},
     "output_type": "execute_result"
    }
   ],
   "source": [
    "from scipy.special import gamma\n",
    "nchisq, binchisq = np.histogram(chisqList, bins=30)\n",
    "binsizechisq = binchisq[1] - binchisq[0]\n",
    "plt.close('all')\n",
    "plt.bar(binchisq[:-1], nchisq/float(max(nchisq)), binsizechisq)\n",
    "\n",
    "def pearson(chisq, K):   \n",
    "    return 1./(2**(K/2.) * gamma(K/2.)) * chisq**(K/2. - 1) * np.exp(-chisq/2)\n",
    "\n",
    "probchisq = pearson(binchisq, len(x) - 2)\n",
    "plt.plot(binchisq, probchisq/float(max(probchisq)))"
   ]
  },
  {
   "cell_type": "code",
   "execution_count": 2,
   "metadata": {
    "collapsed": false
   },
   "outputs": [
    {
     "data": {
      "text/plain": [
       "[<matplotlib.lines.Line2D at 0x1147e5790>]"
      ]
     },
     "execution_count": 2,
     "metadata": {},
     "output_type": "execute_result"
    }
   ],
   "source": [
    "def linearFit(x, y, sigma=1.0):\n",
    "    if type(sigma) is not list:\n",
    "        sigma = np.array([sigma] * len(x))\n",
    "    Sx = np.sum(x/sigma**2)\n",
    "    Sy = np.sum(y/sigma**2)\n",
    "    S = np.sum(1/sigma**2)\n",
    "    t = 1/sigma * (x - Sx/S)\n",
    "    Stt = np.sum(t**2)\n",
    "    b = 1.0/(Stt) * np.sum(t * y / sigma)\n",
    "    a = (Sy - Sx * b) / S\n",
    "\n",
    "    return a, b\n",
    "x = np.linspace(1, 4, 100)\n",
    "sigma = 0.05\n",
    "# 1 realization\n",
    "y0 = 1 + 2*x + 0.2*x*x + np.random.normal(0, sigma, len(x))\n",
    "a0, b0 = linearFit(x, y0, sigma)\n",
    "plt.close('all')\n",
    "fig1 = plt.figure()\n",
    "\n",
    "ax1 = fig1.add_subplot(211)\n",
    "ax1.plot(x, y0, '.')\n",
    "ax1.plot(x, a0+x*b0)\n",
    "ax2 = fig1.add_subplot(212)\n",
    "residual = (y0 - (a0 + x*b0)) / sigma\n",
    "ax2.plot(x, residual, '+', mew=1)\n",
    "\n",
    "nRealization = 10000\n",
    "aList = np.zeros(nRealization)\n",
    "bList = np.zeros(nRealization)\n",
    "chisqList = np.zeros(nRealization)\n",
    "for i in xrange(nRealization):\n",
    "    y = 1 + 2*x + 0.2*x*x + np.random.normal(0, sigma, len(x))\n",
    "    a, b = linearFit(x, y, sigma)\n",
    "    aList[i] = a\n",
    "    bList[i] = b\n",
    "    chisqList[i] = np.sum(((y - (a+b*x))**2/sigma**2)/(len(x) - 2))\n",
    "\n",
    "fig2 = plt.figure(figsize=(12, 6))\n",
    "ax21 = fig2.add_subplot(121)\n",
    "ax21.hist(chisqList, bins=20)\n",
    "ax22 = fig2.add_subplot(122)\n",
    "ax22.plot(aList, bList, '.')"
   ]
  },
  {
   "cell_type": "markdown",
   "metadata": {},
   "source": [
    "In order to use $\\chi^2$ to calcualte error, the assumed model distribution has to be the true distribution.\n",
    "* contour of posterior likelihood in fact is a contour of constant $\\chi^2$"
   ]
  },
  {
   "cell_type": "code",
   "execution_count": 38,
   "metadata": {
    "collapsed": false
   },
   "outputs": [
    {
     "data": {
      "text/plain": [
       "<matplotlib.contour.QuadContourSet at 0x1202490d0>"
      ]
     },
     "execution_count": 38,
     "metadata": {},
     "output_type": "execute_result"
    }
   ],
   "source": [
    "N = 100\n",
    "x = np.linspace(1, 4, 10)\n",
    "sigma = 0.05\n",
    "y = 1 + 2*x + np.random.normal(0, sigma, len(x))\n",
    "plt.close('all')\n",
    "aa, bb = np.meshgrid(np.linspace(0.9, 1.1, 1000), np.linspace(1.8, 2.2, 1000))\n",
    "chisq0 = np.sum((y - (1 + 2*x))**2/sigma**2)/(len(x) - 2)\n",
    "chisqMat = np.zeros((1000, 1000))\n",
    "for i in xrange(1000):\n",
    "    for j in xrange(1000):\n",
    "        chisqMat[i][j] = np.sum((y - (aa[i][j] + bb[i][j]*x))**2/sigma**2) -\\\n",
    "        (len(x) - 2)\n",
    "        \n",
    "chisqMat = chisqMat - chisq0\n",
    "plt.contourf(aa, bb, chisqMat, [2.3, 4.61, 6.17], cmap='viridis')"
   ]
  },
  {
   "cell_type": "markdown",
   "metadata": {
    "collapsed": true
   },
   "source": [
    "* both $x$ and $y$ have uncertainties, for linear models, minimize $\\chi^2$ can determine $a$, $b$. However, it is not a linear problem for b.\n",
    "\n",
    "* For non-linear problems: \n",
    "a generalized $\\chi^2$\n",
    "\\begin{equation}\n",
    "\\chi^2 = \\sum_1^M \\frac{(y_i - f(\\vec{x}, \\vec{m}))^2}{\\sigma_i^2}\n",
    "\\end{equation}\n",
    "* Estimate errors\n",
    "\\begin{equation}\n",
    "\\chi^2 = \\frac{1}{\\sigma^2}\\sum(y_i - a - bx_i)^2 = N_\\mathrm{DoF}\n",
    "\\end{equation}\n",
    "But this can only used as an estimation, not exact calculation\n",
    "\n",
    "* unknown distribution of errors, --- bootstraping    \n",
    "Suppose there are $N$ data points, make many realizaitions make $N$ points out of the data."
   ]
  },
  {
   "cell_type": "code",
   "execution_count": 19,
   "metadata": {
    "collapsed": false
   },
   "outputs": [
    {
     "data": {
      "text/plain": [
       "1.1959595959595959"
      ]
     },
     "execution_count": 19,
     "metadata": {},
     "output_type": "execute_result"
    }
   ],
   "source": []
  },
  {
   "cell_type": "code",
   "execution_count": 29,
   "metadata": {
    "collapsed": false
   },
   "outputs": [
    {
     "name": "stdout",
     "output_type": "stream",
     "text": [
      "Help on function contour in module matplotlib.pyplot:\n",
      "\n",
      "contour(*args, **kwargs)\n",
      "    Plot contours.\n",
      "    \n",
      "    :func:`~matplotlib.pyplot.contour` and\n",
      "    :func:`~matplotlib.pyplot.contourf` draw contour lines and\n",
      "    filled contours, respectively.  Except as noted, function\n",
      "    signatures and return values are the same for both versions.\n",
      "    \n",
      "    :func:`~matplotlib.pyplot.contourf` differs from the MATLAB\n",
      "    version in that it does not draw the polygon edges.\n",
      "    To draw edges, add line contours with\n",
      "    calls to :func:`~matplotlib.pyplot.contour`.\n",
      "    \n",
      "    \n",
      "    Call signatures::\n",
      "    \n",
      "      contour(Z)\n",
      "    \n",
      "    make a contour plot of an array *Z*. The level values are chosen\n",
      "    automatically.\n",
      "    \n",
      "    ::\n",
      "    \n",
      "      contour(X,Y,Z)\n",
      "    \n",
      "    *X*, *Y* specify the (x, y) coordinates of the surface\n",
      "    \n",
      "    ::\n",
      "    \n",
      "      contour(Z,N)\n",
      "      contour(X,Y,Z,N)\n",
      "    \n",
      "    contour up to *N* automatically-chosen levels.\n",
      "    \n",
      "    ::\n",
      "    \n",
      "      contour(Z,V)\n",
      "      contour(X,Y,Z,V)\n",
      "    \n",
      "    draw contour lines at the values specified in sequence *V*,\n",
      "    which must be in increasing order.\n",
      "    \n",
      "    ::\n",
      "    \n",
      "      contourf(..., V)\n",
      "    \n",
      "    fill the ``len(V)-1`` regions between the values in *V*,\n",
      "    which must be in increasing order.\n",
      "    \n",
      "    ::\n",
      "    \n",
      "      contour(Z, **kwargs)\n",
      "    \n",
      "    Use keyword args to control colors, linewidth, origin, cmap ... see\n",
      "    below for more details.\n",
      "    \n",
      "    *X* and *Y* must both be 2-D with the same shape as *Z*, or they\n",
      "    must both be 1-D such that ``len(X)`` is the number of columns in\n",
      "    *Z* and ``len(Y)`` is the number of rows in *Z*.\n",
      "    \n",
      "    ``C = contour(...)`` returns a\n",
      "    :class:`~matplotlib.contour.QuadContourSet` object.\n",
      "    \n",
      "    Optional keyword arguments:\n",
      "    \n",
      "      *corner_mask*: [ *True* | *False* | 'legacy' ]\n",
      "        Enable/disable corner masking, which only has an effect if *Z* is\n",
      "        a masked array.  If *False*, any quad touching a masked point is\n",
      "        masked out.  If *True*, only the triangular corners of quads\n",
      "        nearest those points are always masked out, other triangular\n",
      "        corners comprising three unmasked points are contoured as usual.\n",
      "        If 'legacy', the old contouring algorithm is used, which is\n",
      "        equivalent to *False* and is deprecated, only remaining whilst the\n",
      "        new algorithm is tested fully.\n",
      "    \n",
      "        If not specified, the default is taken from\n",
      "        rcParams['contour.corner_mask'], which is True unless it has\n",
      "        been modified.\n",
      "    \n",
      "      *colors*: [ *None* | string | (mpl_colors) ]\n",
      "        If *None*, the colormap specified by cmap will be used.\n",
      "    \n",
      "        If a string, like 'r' or 'red', all levels will be plotted in this\n",
      "        color.\n",
      "    \n",
      "        If a tuple of matplotlib color args (string, float, rgb, etc),\n",
      "        different levels will be plotted in different colors in the order\n",
      "        specified.\n",
      "    \n",
      "      *alpha*: float\n",
      "        The alpha blending value\n",
      "    \n",
      "      *cmap*: [ *None* | Colormap ]\n",
      "        A cm :class:`~matplotlib.colors.Colormap` instance or\n",
      "        *None*. If *cmap* is *None* and *colors* is *None*, a\n",
      "        default Colormap is used.\n",
      "    \n",
      "      *norm*: [ *None* | Normalize ]\n",
      "        A :class:`matplotlib.colors.Normalize` instance for\n",
      "        scaling data values to colors. If *norm* is *None* and\n",
      "        *colors* is *None*, the default linear scaling is used.\n",
      "    \n",
      "      *vmin*, *vmax*: [ *None* | scalar ]\n",
      "        If not *None*, either or both of these values will be\n",
      "        supplied to the :class:`matplotlib.colors.Normalize`\n",
      "        instance, overriding the default color scaling based on\n",
      "        *levels*.\n",
      "    \n",
      "      *levels*: [level0, level1, ..., leveln]\n",
      "        A list of floating point numbers indicating the level\n",
      "        curves to draw, in increasing order; e.g., to draw just\n",
      "        the zero contour pass ``levels=[0]``\n",
      "    \n",
      "      *origin*: [ *None* | 'upper' | 'lower' | 'image' ]\n",
      "        If *None*, the first value of *Z* will correspond to the\n",
      "        lower left corner, location (0,0). If 'image', the rc\n",
      "        value for ``image.origin`` will be used.\n",
      "    \n",
      "        This keyword is not active if *X* and *Y* are specified in\n",
      "        the call to contour.\n",
      "    \n",
      "      *extent*: [ *None* | (x0,x1,y0,y1) ]\n",
      "    \n",
      "        If *origin* is not *None*, then *extent* is interpreted as\n",
      "        in :func:`matplotlib.pyplot.imshow`: it gives the outer\n",
      "        pixel boundaries. In this case, the position of Z[0,0]\n",
      "        is the center of the pixel, not a corner. If *origin* is\n",
      "        *None*, then (*x0*, *y0*) is the position of Z[0,0], and\n",
      "        (*x1*, *y1*) is the position of Z[-1,-1].\n",
      "    \n",
      "        This keyword is not active if *X* and *Y* are specified in\n",
      "        the call to contour.\n",
      "    \n",
      "      *locator*: [ *None* | ticker.Locator subclass ]\n",
      "        If *locator* is *None*, the default\n",
      "        :class:`~matplotlib.ticker.MaxNLocator` is used. The\n",
      "        locator is used to determine the contour levels if they\n",
      "        are not given explicitly via the *V* argument.\n",
      "    \n",
      "      *extend*: [ 'neither' | 'both' | 'min' | 'max' ]\n",
      "        Unless this is 'neither', contour levels are automatically\n",
      "        added to one or both ends of the range so that all data\n",
      "        are included. These added ranges are then mapped to the\n",
      "        special colormap values which default to the ends of the\n",
      "        colormap range, but can be set via\n",
      "        :meth:`matplotlib.colors.Colormap.set_under` and\n",
      "        :meth:`matplotlib.colors.Colormap.set_over` methods.\n",
      "    \n",
      "      *xunits*, *yunits*: [ *None* | registered units ]\n",
      "        Override axis units by specifying an instance of a\n",
      "        :class:`matplotlib.units.ConversionInterface`.\n",
      "    \n",
      "      *antialiased*: [ *True* | *False* ]\n",
      "        enable antialiasing, overriding the defaults.  For\n",
      "        filled contours, the default is *True*.  For line contours,\n",
      "        it is taken from rcParams['lines.antialiased'].\n",
      "    \n",
      "      *nchunk*: [ 0 | integer ]\n",
      "        If 0, no subdivision of the domain.  Specify a positive integer to\n",
      "        divide the domain into subdomains of *nchunk* by *nchunk* quads.\n",
      "        Chunking reduces the maximum length of polygons generated by the\n",
      "        contouring algorithm which reduces the rendering workload passed\n",
      "        on to the backend and also requires slightly less RAM.  It can\n",
      "        however introduce rendering artifacts at chunk boundaries depending\n",
      "        on the backend, the *antialiased* flag and value of *alpha*.\n",
      "    \n",
      "    contour-only keyword arguments:\n",
      "    \n",
      "      *linewidths*: [ *None* | number | tuple of numbers ]\n",
      "        If *linewidths* is *None*, the default width in\n",
      "        ``lines.linewidth`` in ``matplotlibrc`` is used.\n",
      "    \n",
      "        If a number, all levels will be plotted with this linewidth.\n",
      "    \n",
      "        If a tuple, different levels will be plotted with different\n",
      "        linewidths in the order specified.\n",
      "    \n",
      "      *linestyles*: [ *None* | 'solid' | 'dashed' | 'dashdot' | 'dotted' ]\n",
      "        If *linestyles* is *None*, the default is 'solid' unless\n",
      "        the lines are monochrome.  In that case, negative\n",
      "        contours will take their linestyle from the ``matplotlibrc``\n",
      "        ``contour.negative_linestyle`` setting.\n",
      "    \n",
      "        *linestyles* can also be an iterable of the above strings\n",
      "        specifying a set of linestyles to be used. If this\n",
      "        iterable is shorter than the number of contour levels\n",
      "        it will be repeated as necessary.\n",
      "    \n",
      "    contourf-only keyword arguments:\n",
      "    \n",
      "      *hatches*:\n",
      "        A list of cross hatch patterns to use on the filled areas.\n",
      "        If None, no hatching will be added to the contour.\n",
      "        Hatching is supported in the PostScript, PDF, SVG and Agg\n",
      "        backends only.\n",
      "    \n",
      "    \n",
      "    Note: contourf fills intervals that are closed at the top; that\n",
      "    is, for boundaries *z1* and *z2*, the filled region is::\n",
      "    \n",
      "        z1 < z <= z2\n",
      "    \n",
      "    There is one exception: if the lowest boundary coincides with\n",
      "    the minimum value of the *z* array, then that minimum value\n",
      "    will be included in the lowest interval.\n",
      "    \n",
      "    **Examples:**\n",
      "    \n",
      "    .. plot:: mpl_examples/pylab_examples/contour_demo.py\n",
      "    \n",
      "    .. plot:: mpl_examples/pylab_examples/contourf_demo.py\n",
      "    \n",
      "    .. plot:: mpl_examples/pylab_examples/contour_corner_mask.py\n",
      "    \n",
      "    \n",
      "    \n",
      "    Additional kwargs: hold = [True|False] overrides default hold state\n",
      "\n"
     ]
    }
   ],
   "source": []
  },
  {
   "cell_type": "code",
   "execution_count": null,
   "metadata": {
    "collapsed": true
   },
   "outputs": [],
   "source": []
  }
 ],
 "metadata": {
  "kernelspec": {
   "display_name": "Python 2",
   "language": "python",
   "name": "python2"
  },
  "language_info": {
   "codemirror_mode": {
    "name": "ipython",
    "version": 2
   },
   "file_extension": ".py",
   "mimetype": "text/x-python",
   "name": "python",
   "nbconvert_exporter": "python",
   "pygments_lexer": "ipython2",
   "version": "2.7.11"
  },
  "latex_envs": {
   "bibliofile": "biblio.bib",
   "cite_by": "apalike",
   "current_citInitial": 1,
   "eqLabelWithNumbers": true,
   "eqNumInitial": 0
  }
 },
 "nbformat": 4,
 "nbformat_minor": 0
}
