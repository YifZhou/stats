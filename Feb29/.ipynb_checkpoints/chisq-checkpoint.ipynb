{
 "cells": [
  {
   "cell_type": "markdown",
   "metadata": {},
   "source": [
    "# Pearson $\\chi^2$ test\n",
    "**Assumptions**:  \n",
    "1. $\\Delta y \\gg \\Delta x$\n",
    "2. $y$ is a Gaussian distribution\n",
    "3. all data points are independent\n",
    "\n",
    "Given model: $y = y(x, m)$, based on above assumptions:\n",
    "\\begin{equation}\n",
    "\\begin{split}\n",
    "P_i &= \\frac{1}{\\sqrt{2\\pi\\,\\sigma_i^2}}\\exp(-\\frac{(y(x_i, m)-y_i)^2}{2\\sigma_i^2})\\\\\n",
    "P &= \\prod_i P_i\\\\\n",
    "&=\\prod_i \\frac{1}{\\sqrt{2\\pi\\,\\sigma_i^2}} \\exp\\Bigl(-\\frac{1}{2} \\sum_i \\frac{(y(x_i, m)-y_i)^2}{\\sigma_i^2}\\Bigr)\n",
    "\\end{split}\n",
    "\\end{equation}\n",
    "**Define $\\chi^2$**\n",
    "\\begin{equation}\n",
    "\\sum_i \\frac{(y(x_i, m)-y_i)^2}{\\sigma_i^2}\n",
    "\\end{equation}\n",
    "\n",
    "## if $y(x, m)=a + bx$ is a linear model:\n",
    "$S_x = \\sum_i\\frac{x_i}{\\sigma_i^2}$\n",
    "\\begin{align}\n",
    "\\Delta &= S\\,S_{xx} - S_x^2\\\\\n",
    "a &= \\frac{S_{xx}S_y - S_xS_{xy}}{\\Delta}\\\\\n",
    "b &= \\frac{S\\,S_{xy} - S_xS_y}{\\Delta}\\\\\n",
    "\\end{align}\n",
    "\n",
    "### Another form of expression\n",
    "\\begin{align}\n",
    "t_i &=\\frac{1}{\\sigma_i}\\Bigl[x_i - \\frac{S_x}{S}\\Bigr]\\\\\n",
    "S_{tt} & = \\sum_i t_i^2\\\\\n",
    "b & = \\frac{1}{S_{tt}} \\sum_i \\frac{t_i\\, y_i}{\\sigma_i}\\\\\n",
    "a & = \\frac{S_y -S_x\\,b}{S}\\\\\n",
    "\\end{align}"
   ]
  },
  {
   "cell_type": "code",
   "execution_count": 1,
   "metadata": {
    "collapsed": true
   },
   "outputs": [],
   "source": [
    "import numpy as np\n",
    "import matplotlib.pyplot as plt\n",
    "%matplotlib osx\n",
    "#plt.style.use('ggplot')\n",
    "import seaborn as sns"
   ]
  },
  {
   "cell_type": "code",
   "execution_count": 6,
   "metadata": {
    "collapsed": false
   },
   "outputs": [
    {
     "data": {
      "text/plain": [
       "<Container object of 3 artists>"
      ]
     },
     "execution_count": 6,
     "metadata": {},
     "output_type": "execute_result"
    }
   ],
   "source": [
    "x = np.linspace(1, 4, 10)\n",
    "sigma = 0.05\n",
    "\n",
    "\n",
    "def linearFit(x, y, sigma=1.0):\n",
    "    if type(sigma) is not list:\n",
    "        sigma = np.array([sigma] * len(x))\n",
    "    Sx = np.sum(x/sigma**2)\n",
    "    Sy = np.sum(y/sigma**2)\n",
    "    S = np.sum(1/sigma**2)\n",
    "    t = 1/sigma * (x - Sx/S)\n",
    "    Stt = np.sum(t**2)\n",
    "    b = 1.0/(Stt) * np.sum(t * y / sigma)\n",
    "    a = (Sy - Sx * b) / S\n",
    "\n",
    "    Sxx= np.sum(x**2/sigma**2)\n",
    "    Delta = S*Sxx - Sx**2\n",
    "    da = np.sqrt(Sxx/Delta)\n",
    "    db = np.sqrt(S/Delta)\n",
    "    return a, b, da, db\n",
    "\n",
    "aList = []\n",
    "bList = []\n",
    "daList = []\n",
    "dbList = []\n",
    "chisqList = []\n",
    "for i in xrange(10000):\n",
    "    y = 2*x + 1 + np.random.normal(0.0, scale = sigma, size = len(x))\n",
    "    a, b, da, db = linearFit(x, y, sigma)\n",
    "    chisq = np.sum((y - a - b*x)**2/sigma**2)\n",
    "    chisqList.append(chisq)\n",
    "    aList.append(a)\n",
    "    bList.append(b)\n",
    "    daList.append(da)\n",
    "    dbList.append(db)\n",
    "plt.close('all')   \n",
    "\n",
    "da = daList[0]\n",
    "db = dbList[0]\n",
    "fig = plt.figure(figsize=(12,6))\n",
    "ax1 = fig.add_subplot(121)\n",
    "na, bina = np.histogram(aList, bins=30)\n",
    "na = na/float(na.max())\n",
    "bina = (bina[:-1] + bina[1:])/2\n",
    "binsizea = bina[1] - bina[0]\n",
    "ax1.plot(bina + 0.5 * binsizea, na, linestyle='steps')\n",
    "ax1.plot(bina, np.exp(-(bina - 1.0)**2/(2*da**2)))\n",
    "ax1.set_xlabel('$a$')\n",
    "ax2 = fig.add_subplot(122)\n",
    "nb, binb = np.histogram(bList, bins=30)\n",
    "nb = nb/float(nb.max())\n",
    "binb = (binb[:-1] + binb[1:])/2\n",
    "binsizeb = binb[1] - binb[0]\n",
    "ax2.plot(binb + 0.5 * binsizeb, nb, linestyle='steps')\n",
    "ax2.plot(binb, np.exp(-(binb - 2.0)**2/(2*db**2)))\n",
    "ax2.set_xlabel('$b$')\n",
    "for ax in fig.axes:\n",
    "    ax.set_ylabel('P density')\n",
    "\n",
    "\n",
    "fig = plt.figure()\n",
    "ax = fig.add_subplot(111)\n",
    "ax.errorbar(aList, bList, xerr=da, yerr=db, fmt='.', ms=3, lw=0.1)"
   ]
  },
  {
   "cell_type": "markdown",
   "metadata": {},
   "source": [
    "## Error Estimation\n",
    "\\begin{equation}\n",
    "\\frac{\\partial{a}}{\\partial{y_i}} = \\frac{1}{\\Delta} [S_{xx}\\frac{1}{\\sigma_i^2}-S_x\\frac{x_i}{\\sigma_i^2}]\n",
    "\\end{equation}\n",
    "\\begin{align}\n",
    "\\sigma_a^2 &= \\frac{S_{xx}}{\\Delta}\\\\\n",
    "\\sigma_b^2 &= \\frac{S}{\\Delta}\n",
    "\\end{align}"
   ]
  },
  {
   "cell_type": "markdown",
   "metadata": {},
   "source": [
    "## Pearson's theorem\n",
    "Suppose there are $K$ independent varibles $Z_k$ with 0 mean Gaussian distribution\n",
    "$$\n",
    "x_K^2 = Q = \\sum_i Z_i^2\n",
    "$$\n",
    "$$\n",
    "P(x_K^2) = \\frac{1}{2^{K/2}\\Gamma(K/2)} \\, \\chi^{K/2 - 1} \\, \\exp(-\\chi/2)\n",
    "$$\n",
    "$P$ is called $\\chi^2$ distribution"
   ]
  },
  {
   "cell_type": "code",
   "execution_count": 10,
   "metadata": {
    "collapsed": false
   },
   "outputs": [
    {
     "data": {
      "text/plain": [
       "[<matplotlib.lines.Line2D at 0x1168c9190>]"
      ]
     },
     "execution_count": 10,
     "metadata": {},
     "output_type": "execute_result"
    }
   ],
   "source": [
    "from scipy.special import gamma\n",
    "nchisq, binchisq = np.histogram(chisqList, bins=30)\n",
    "binsizechisq = binchisq[1] - binchisq[0]\n",
    "plt.close('all')\n",
    "plt.bar(binchisq[:-1], nchisq/float(max(nchisq)), binsizechisq)\n",
    "\n",
    "def pearson(chisq, K):   \n",
    "    return 1./(2**(K/2.) * gamma(K/2.)) * chisq**(K/2. - 1) * np.exp(-chisq/2)\n",
    "\n",
    "probchisq = pearson(binchisq, len(x) - 2)\n",
    "plt.plot(binchisq, probchisq/float(max(probchisq)))"
   ]
  },
  {
   "cell_type": "code",
   "execution_count": 2,
   "metadata": {
    "collapsed": false
   },
   "outputs": [
    {
     "data": {
      "text/plain": [
       "[<matplotlib.lines.Line2D at 0x1147e5790>]"
      ]
     },
     "execution_count": 2,
     "metadata": {},
     "output_type": "execute_result"
    }
   ],
   "source": [
    "def linearFit(x, y, sigma=1.0):\n",
    "    if type(sigma) is not list:\n",
    "        sigma = np.array([sigma] * len(x))\n",
    "    Sx = np.sum(x/sigma**2)\n",
    "    Sy = np.sum(y/sigma**2)\n",
    "    S = np.sum(1/sigma**2)\n",
    "    t = 1/sigma * (x - Sx/S)\n",
    "    Stt = np.sum(t**2)\n",
    "    b = 1.0/(Stt) * np.sum(t * y / sigma)\n",
    "    a = (Sy - Sx * b) / S\n",
    "\n",
    "    return a, b\n",
    "x = np.linspace(1, 4, 100)\n",
    "sigma = 0.05\n",
    "# 1 realization\n",
    "y0 = 1 + 2*x + 0.2*x*x + np.random.normal(0, sigma, len(x))\n",
    "a0, b0 = linearFit(x, y0, sigma)\n",
    "plt.close('all')\n",
    "fig1 = plt.figure()\n",
    "\n",
    "ax1 = fig1.add_subplot(211)\n",
    "ax1.plot(x, y0, '.')\n",
    "ax1.plot(x, a0+x*b0)\n",
    "ax2 = fig1.add_subplot(212)\n",
    "residual = (y0 - (a0 + x*b0)) / sigma\n",
    "ax2.plot(x, residual, '+', mew=1)\n",
    "\n",
    "nRealization = 10000\n",
    "aList = np.zeros(nRealization)\n",
    "bList = np.zeros(nRealization)\n",
    "chisqList = np.zeros(nRealization)\n",
    "for i in xrange(nRealization):\n",
    "    y = 1 + 2*x + 0.2*x*x + np.random.normal(0, sigma, len(x))\n",
    "    a, b = linearFit(x, y, sigma)\n",
    "    aList[i] = a\n",
    "    bList[i] = b\n",
    "    chisqList[i] = np.sum(((y - (a+b*x))**2/sigma**2)/(len(x) - 2))\n",
    "\n",
    "fig2 = plt.figure(figsize=(12, 6))\n",
    "ax21 = fig2.add_subplot(121)\n",
    "ax21.hist(chisqList, bins=20)\n",
    "ax22 = fig2.add_subplot(122)\n",
    "ax22.plot(aList, bList, '.')"
   ]
  },
  {
   "cell_type": "markdown",
   "metadata": {},
   "source": [
    "In order to use $\\chi^2$ to calcualte error, the assumed model distribution has to be the true distribution.\n",
    "* contour of posterior likelihood in fact is a contour of constant $\\chi^2$"
   ]
  },
  {
   "cell_type": "code",
   "execution_count": 3,
   "metadata": {
    "collapsed": false
   },
   "outputs": [
    {
     "ename": "TypeError",
     "evalue": "Input z must be a 2D array.",
     "output_type": "error",
     "traceback": [
      "\u001b[0;31m---------------------------------------------------------------------------\u001b[0m",
      "\u001b[0;31mTypeError\u001b[0m                                 Traceback (most recent call last)",
      "\u001b[0;32m<ipython-input-3-d6d66e221991>\u001b[0m in \u001b[0;36m<module>\u001b[0;34m()\u001b[0m\n\u001b[1;32m      1\u001b[0m \u001b[0mchisqList0\u001b[0m \u001b[0;34m=\u001b[0m \u001b[0mchisqList\u001b[0m \u001b[0;34m-\u001b[0m \u001b[0mchisqList\u001b[0m\u001b[0;34m.\u001b[0m\u001b[0mmin\u001b[0m\u001b[0;34m(\u001b[0m\u001b[0;34m)\u001b[0m\u001b[0;34m\u001b[0m\u001b[0m\n\u001b[0;32m----> 2\u001b[0;31m \u001b[0mplt\u001b[0m\u001b[0;34m.\u001b[0m\u001b[0mcontour\u001b[0m\u001b[0;34m(\u001b[0m\u001b[0maList\u001b[0m\u001b[0;34m,\u001b[0m \u001b[0mbList\u001b[0m\u001b[0;34m,\u001b[0m \u001b[0mchisqList0\u001b[0m\u001b[0;34m)\u001b[0m\u001b[0;34m\u001b[0m\u001b[0m\n\u001b[0m",
      "\u001b[0;32m/usr/local/lib/python2.7/site-packages/matplotlib/pyplot.pyc\u001b[0m in \u001b[0;36mcontour\u001b[0;34m(*args, **kwargs)\u001b[0m\n\u001b[1;32m   2764\u001b[0m         \u001b[0max\u001b[0m\u001b[0;34m.\u001b[0m\u001b[0mhold\u001b[0m\u001b[0;34m(\u001b[0m\u001b[0mhold\u001b[0m\u001b[0;34m)\u001b[0m\u001b[0;34m\u001b[0m\u001b[0m\n\u001b[1;32m   2765\u001b[0m     \u001b[0;32mtry\u001b[0m\u001b[0;34m:\u001b[0m\u001b[0;34m\u001b[0m\u001b[0m\n\u001b[0;32m-> 2766\u001b[0;31m         \u001b[0mret\u001b[0m \u001b[0;34m=\u001b[0m \u001b[0max\u001b[0m\u001b[0;34m.\u001b[0m\u001b[0mcontour\u001b[0m\u001b[0;34m(\u001b[0m\u001b[0;34m*\u001b[0m\u001b[0margs\u001b[0m\u001b[0;34m,\u001b[0m \u001b[0;34m**\u001b[0m\u001b[0mkwargs\u001b[0m\u001b[0;34m)\u001b[0m\u001b[0;34m\u001b[0m\u001b[0m\n\u001b[0m\u001b[1;32m   2767\u001b[0m     \u001b[0;32mfinally\u001b[0m\u001b[0;34m:\u001b[0m\u001b[0;34m\u001b[0m\u001b[0m\n\u001b[1;32m   2768\u001b[0m         \u001b[0max\u001b[0m\u001b[0;34m.\u001b[0m\u001b[0mhold\u001b[0m\u001b[0;34m(\u001b[0m\u001b[0mwashold\u001b[0m\u001b[0;34m)\u001b[0m\u001b[0;34m\u001b[0m\u001b[0m\n",
      "\u001b[0;32m/usr/local/lib/python2.7/site-packages/matplotlib/__init__.pyc\u001b[0m in \u001b[0;36minner\u001b[0;34m(ax, *args, **kwargs)\u001b[0m\n\u001b[1;32m   1810\u001b[0m                     warnings.warn(msg % (label_namer, func.__name__),\n\u001b[1;32m   1811\u001b[0m                                   RuntimeWarning, stacklevel=2)\n\u001b[0;32m-> 1812\u001b[0;31m             \u001b[0;32mreturn\u001b[0m \u001b[0mfunc\u001b[0m\u001b[0;34m(\u001b[0m\u001b[0max\u001b[0m\u001b[0;34m,\u001b[0m \u001b[0;34m*\u001b[0m\u001b[0margs\u001b[0m\u001b[0;34m,\u001b[0m \u001b[0;34m**\u001b[0m\u001b[0mkwargs\u001b[0m\u001b[0;34m)\u001b[0m\u001b[0;34m\u001b[0m\u001b[0m\n\u001b[0m\u001b[1;32m   1813\u001b[0m         \u001b[0mpre_doc\u001b[0m \u001b[0;34m=\u001b[0m \u001b[0minner\u001b[0m\u001b[0;34m.\u001b[0m\u001b[0m__doc__\u001b[0m\u001b[0;34m\u001b[0m\u001b[0m\n\u001b[1;32m   1814\u001b[0m         \u001b[0;32mif\u001b[0m \u001b[0mpre_doc\u001b[0m \u001b[0;32mis\u001b[0m \u001b[0mNone\u001b[0m\u001b[0;34m:\u001b[0m\u001b[0;34m\u001b[0m\u001b[0m\n",
      "\u001b[0;32m/usr/local/lib/python2.7/site-packages/matplotlib/axes/_axes.pyc\u001b[0m in \u001b[0;36mcontour\u001b[0;34m(self, *args, **kwargs)\u001b[0m\n\u001b[1;32m   5642\u001b[0m             \u001b[0mself\u001b[0m\u001b[0;34m.\u001b[0m\u001b[0mcla\u001b[0m\u001b[0;34m(\u001b[0m\u001b[0;34m)\u001b[0m\u001b[0;34m\u001b[0m\u001b[0m\n\u001b[1;32m   5643\u001b[0m         \u001b[0mkwargs\u001b[0m\u001b[0;34m[\u001b[0m\u001b[0;34m'filled'\u001b[0m\u001b[0;34m]\u001b[0m \u001b[0;34m=\u001b[0m \u001b[0mFalse\u001b[0m\u001b[0;34m\u001b[0m\u001b[0m\n\u001b[0;32m-> 5644\u001b[0;31m         \u001b[0;32mreturn\u001b[0m \u001b[0mmcontour\u001b[0m\u001b[0;34m.\u001b[0m\u001b[0mQuadContourSet\u001b[0m\u001b[0;34m(\u001b[0m\u001b[0mself\u001b[0m\u001b[0;34m,\u001b[0m \u001b[0;34m*\u001b[0m\u001b[0margs\u001b[0m\u001b[0;34m,\u001b[0m \u001b[0;34m**\u001b[0m\u001b[0mkwargs\u001b[0m\u001b[0;34m)\u001b[0m\u001b[0;34m\u001b[0m\u001b[0m\n\u001b[0m\u001b[1;32m   5645\u001b[0m     \u001b[0mcontour\u001b[0m\u001b[0;34m.\u001b[0m\u001b[0m__doc__\u001b[0m \u001b[0;34m=\u001b[0m \u001b[0mmcontour\u001b[0m\u001b[0;34m.\u001b[0m\u001b[0mQuadContourSet\u001b[0m\u001b[0;34m.\u001b[0m\u001b[0mcontour_doc\u001b[0m\u001b[0;34m\u001b[0m\u001b[0m\n\u001b[1;32m   5646\u001b[0m \u001b[0;34m\u001b[0m\u001b[0m\n",
      "\u001b[0;32m/usr/local/lib/python2.7/site-packages/matplotlib/contour.pyc\u001b[0m in \u001b[0;36m__init__\u001b[0;34m(self, ax, *args, **kwargs)\u001b[0m\n\u001b[1;32m   1422\u001b[0m         \u001b[0mare\u001b[0m \u001b[0mdescribed\u001b[0m \u001b[0;32min\u001b[0m \u001b[0mQuadContourSet\u001b[0m\u001b[0;34m.\u001b[0m\u001b[0mcontour_doc\u001b[0m\u001b[0;34m.\u001b[0m\u001b[0;34m\u001b[0m\u001b[0m\n\u001b[1;32m   1423\u001b[0m         \"\"\"\n\u001b[0;32m-> 1424\u001b[0;31m         \u001b[0mContourSet\u001b[0m\u001b[0;34m.\u001b[0m\u001b[0m__init__\u001b[0m\u001b[0;34m(\u001b[0m\u001b[0mself\u001b[0m\u001b[0;34m,\u001b[0m \u001b[0max\u001b[0m\u001b[0;34m,\u001b[0m \u001b[0;34m*\u001b[0m\u001b[0margs\u001b[0m\u001b[0;34m,\u001b[0m \u001b[0;34m**\u001b[0m\u001b[0mkwargs\u001b[0m\u001b[0;34m)\u001b[0m\u001b[0;34m\u001b[0m\u001b[0m\n\u001b[0m\u001b[1;32m   1425\u001b[0m \u001b[0;34m\u001b[0m\u001b[0m\n\u001b[1;32m   1426\u001b[0m     \u001b[0;32mdef\u001b[0m \u001b[0m_process_args\u001b[0m\u001b[0;34m(\u001b[0m\u001b[0mself\u001b[0m\u001b[0;34m,\u001b[0m \u001b[0;34m*\u001b[0m\u001b[0margs\u001b[0m\u001b[0;34m,\u001b[0m \u001b[0;34m**\u001b[0m\u001b[0mkwargs\u001b[0m\u001b[0;34m)\u001b[0m\u001b[0;34m:\u001b[0m\u001b[0;34m\u001b[0m\u001b[0m\n",
      "\u001b[0;32m/usr/local/lib/python2.7/site-packages/matplotlib/contour.pyc\u001b[0m in \u001b[0;36m__init__\u001b[0;34m(self, ax, *args, **kwargs)\u001b[0m\n\u001b[1;32m    861\u001b[0m         \u001b[0mself\u001b[0m\u001b[0;34m.\u001b[0m\u001b[0m_transform\u001b[0m \u001b[0;34m=\u001b[0m \u001b[0mkwargs\u001b[0m\u001b[0;34m.\u001b[0m\u001b[0mget\u001b[0m\u001b[0;34m(\u001b[0m\u001b[0;34m'transform'\u001b[0m\u001b[0;34m,\u001b[0m \u001b[0mNone\u001b[0m\u001b[0;34m)\u001b[0m\u001b[0;34m\u001b[0m\u001b[0m\n\u001b[1;32m    862\u001b[0m \u001b[0;34m\u001b[0m\u001b[0m\n\u001b[0;32m--> 863\u001b[0;31m         \u001b[0mself\u001b[0m\u001b[0;34m.\u001b[0m\u001b[0m_process_args\u001b[0m\u001b[0;34m(\u001b[0m\u001b[0;34m*\u001b[0m\u001b[0margs\u001b[0m\u001b[0;34m,\u001b[0m \u001b[0;34m**\u001b[0m\u001b[0mkwargs\u001b[0m\u001b[0;34m)\u001b[0m\u001b[0;34m\u001b[0m\u001b[0m\n\u001b[0m\u001b[1;32m    864\u001b[0m         \u001b[0mself\u001b[0m\u001b[0;34m.\u001b[0m\u001b[0m_process_levels\u001b[0m\u001b[0;34m(\u001b[0m\u001b[0;34m)\u001b[0m\u001b[0;34m\u001b[0m\u001b[0m\n\u001b[1;32m    865\u001b[0m \u001b[0;34m\u001b[0m\u001b[0m\n",
      "\u001b[0;32m/usr/local/lib/python2.7/site-packages/matplotlib/contour.pyc\u001b[0m in \u001b[0;36m_process_args\u001b[0;34m(self, *args, **kwargs)\u001b[0m\n\u001b[1;32m   1443\u001b[0m                 \u001b[0mself\u001b[0m\u001b[0;34m.\u001b[0m\u001b[0m_corner_mask\u001b[0m \u001b[0;34m=\u001b[0m \u001b[0mmpl\u001b[0m\u001b[0;34m.\u001b[0m\u001b[0mrcParams\u001b[0m\u001b[0;34m[\u001b[0m\u001b[0;34m'contour.corner_mask'\u001b[0m\u001b[0;34m]\u001b[0m\u001b[0;34m\u001b[0m\u001b[0m\n\u001b[1;32m   1444\u001b[0m \u001b[0;34m\u001b[0m\u001b[0m\n\u001b[0;32m-> 1445\u001b[0;31m             \u001b[0mx\u001b[0m\u001b[0;34m,\u001b[0m \u001b[0my\u001b[0m\u001b[0;34m,\u001b[0m \u001b[0mz\u001b[0m \u001b[0;34m=\u001b[0m \u001b[0mself\u001b[0m\u001b[0;34m.\u001b[0m\u001b[0m_contour_args\u001b[0m\u001b[0;34m(\u001b[0m\u001b[0margs\u001b[0m\u001b[0;34m,\u001b[0m \u001b[0mkwargs\u001b[0m\u001b[0;34m)\u001b[0m\u001b[0;34m\u001b[0m\u001b[0m\n\u001b[0m\u001b[1;32m   1446\u001b[0m \u001b[0;34m\u001b[0m\u001b[0m\n\u001b[1;32m   1447\u001b[0m             \u001b[0m_mask\u001b[0m \u001b[0;34m=\u001b[0m \u001b[0mma\u001b[0m\u001b[0;34m.\u001b[0m\u001b[0mgetmask\u001b[0m\u001b[0;34m(\u001b[0m\u001b[0mz\u001b[0m\u001b[0;34m)\u001b[0m\u001b[0;34m\u001b[0m\u001b[0m\n",
      "\u001b[0;32m/usr/local/lib/python2.7/site-packages/matplotlib/contour.pyc\u001b[0m in \u001b[0;36m_contour_args\u001b[0;34m(self, args, kwargs)\u001b[0m\n\u001b[1;32m   1526\u001b[0m             \u001b[0margs\u001b[0m \u001b[0;34m=\u001b[0m \u001b[0margs\u001b[0m\u001b[0;34m[\u001b[0m\u001b[0;36m1\u001b[0m\u001b[0;34m:\u001b[0m\u001b[0;34m]\u001b[0m\u001b[0;34m\u001b[0m\u001b[0m\n\u001b[1;32m   1527\u001b[0m         \u001b[0;32melif\u001b[0m \u001b[0mNargs\u001b[0m \u001b[0;34m<=\u001b[0m \u001b[0;36m4\u001b[0m\u001b[0;34m:\u001b[0m\u001b[0;34m\u001b[0m\u001b[0m\n\u001b[0;32m-> 1528\u001b[0;31m             \u001b[0mx\u001b[0m\u001b[0;34m,\u001b[0m \u001b[0my\u001b[0m\u001b[0;34m,\u001b[0m \u001b[0mz\u001b[0m \u001b[0;34m=\u001b[0m \u001b[0mself\u001b[0m\u001b[0;34m.\u001b[0m\u001b[0m_check_xyz\u001b[0m\u001b[0;34m(\u001b[0m\u001b[0margs\u001b[0m\u001b[0;34m[\u001b[0m\u001b[0;34m:\u001b[0m\u001b[0;36m3\u001b[0m\u001b[0;34m]\u001b[0m\u001b[0;34m,\u001b[0m \u001b[0mkwargs\u001b[0m\u001b[0;34m)\u001b[0m\u001b[0;34m\u001b[0m\u001b[0m\n\u001b[0m\u001b[1;32m   1529\u001b[0m             \u001b[0margs\u001b[0m \u001b[0;34m=\u001b[0m \u001b[0margs\u001b[0m\u001b[0;34m[\u001b[0m\u001b[0;36m3\u001b[0m\u001b[0;34m:\u001b[0m\u001b[0;34m]\u001b[0m\u001b[0;34m\u001b[0m\u001b[0m\n\u001b[1;32m   1530\u001b[0m         \u001b[0;32melse\u001b[0m\u001b[0;34m:\u001b[0m\u001b[0;34m\u001b[0m\u001b[0m\n",
      "\u001b[0;32m/usr/local/lib/python2.7/site-packages/matplotlib/contour.pyc\u001b[0m in \u001b[0;36m_check_xyz\u001b[0;34m(self, args, kwargs)\u001b[0m\n\u001b[1;32m   1560\u001b[0m \u001b[0;34m\u001b[0m\u001b[0m\n\u001b[1;32m   1561\u001b[0m         \u001b[0;32mif\u001b[0m \u001b[0mz\u001b[0m\u001b[0;34m.\u001b[0m\u001b[0mndim\u001b[0m \u001b[0;34m!=\u001b[0m \u001b[0;36m2\u001b[0m\u001b[0;34m:\u001b[0m\u001b[0;34m\u001b[0m\u001b[0m\n\u001b[0;32m-> 1562\u001b[0;31m             \u001b[0;32mraise\u001b[0m \u001b[0mTypeError\u001b[0m\u001b[0;34m(\u001b[0m\u001b[0;34m\"Input z must be a 2D array.\"\u001b[0m\u001b[0;34m)\u001b[0m\u001b[0;34m\u001b[0m\u001b[0m\n\u001b[0m\u001b[1;32m   1563\u001b[0m         \u001b[0;32melse\u001b[0m\u001b[0;34m:\u001b[0m\u001b[0;34m\u001b[0m\u001b[0m\n\u001b[1;32m   1564\u001b[0m             \u001b[0mNy\u001b[0m\u001b[0;34m,\u001b[0m \u001b[0mNx\u001b[0m \u001b[0;34m=\u001b[0m \u001b[0mz\u001b[0m\u001b[0;34m.\u001b[0m\u001b[0mshape\u001b[0m\u001b[0;34m\u001b[0m\u001b[0m\n",
      "\u001b[0;31mTypeError\u001b[0m: Input z must be a 2D array."
     ]
    }
   ],
   "source": [
    "N = 100\n",
    "x = np.linspace(1, 4, 10)\n",
    "y = 1*2x + np.random.normal(0, sigma, len(x))"
   ]
  },
  {
   "cell_type": "code",
   "execution_count": null,
   "metadata": {
    "collapsed": true
   },
   "outputs": [],
   "source": []
  }
 ],
 "metadata": {
  "kernelspec": {
   "display_name": "Python 2",
   "language": "python",
   "name": "python2"
  },
  "language_info": {
   "codemirror_mode": {
    "name": "ipython",
    "version": 2
   },
   "file_extension": ".py",
   "mimetype": "text/x-python",
   "name": "python",
   "nbconvert_exporter": "python",
   "pygments_lexer": "ipython2",
   "version": "2.7.11"
  },
  "latex_envs": {
   "bibliofile": "biblio.bib",
   "cite_by": "apalike",
   "current_citInitial": 1,
   "eqLabelWithNumbers": true,
   "eqNumInitial": 0
  }
 },
 "nbformat": 4,
 "nbformat_minor": 0
}
