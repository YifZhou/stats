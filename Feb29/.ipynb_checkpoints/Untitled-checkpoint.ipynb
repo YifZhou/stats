{
 "cells": [
  {
   "cell_type": "markdown",
   "metadata": {},
   "source": [
    "# Pearson $\\chi^2$ test\n",
    "**Assumptions**:  \n",
    "1. $\\Delta y \\gg \\Delta x$\n",
    "2. $y$ is a Gaussian distribution\n",
    "3. all data points are independent\n",
    "\n",
    "Given model: $y = y(x, m)$, based on above assumptions:\n",
    "\\begin{equation}\n",
    "\\begin{split}\n",
    "P_i &= \\frac{1}{\\sqrt{2\\pi\\,\\sigma_i^2}}\\exp(-\\frac{(y(x_i, m)-y_i)^2}{2\\sigma_i^2})\\\\\n",
    "P &= \\prod_i P_i\\\\\n",
    "&=\\prod_i \\frac{1}{\\sqrt{2\\pi\\,\\sigma_i^2}} \\exp\\Bigl(-\\frac{1}{2} \\sum_i \\frac{(y(x_i, m)-y_i)^2}{\\sigma_i^2}\\Bigr)\n",
    "\\end{split}\n",
    "\\end{equation}\n",
    "**Define $\\chi^2$**\n",
    "\\begin{equation}\n",
    "\\sum_i \\frac{(y(x_i, m)-y_i)^2}{\\sigma_i^2}\n",
    "\\end{equation}\n",
    "\n",
    "## if $y(x, m)=a + bx$ is a linear model:\n",
    "$S_x = \\sum_i\\frac{x_i}{\\sigma_i^2}$\n",
    "\\begin{align}\n",
    "\\Delta &= S\\,S_{xx} - S_x^2\\\\\n",
    "a &= \\frac{S_{xx}S_y - S_xS_{xy}}{\\Delta}\\\\\n",
    "b &= \\frac{S\\,S_{xy} - S_xS_y}{\\Delta}\\\\\n",
    "\\end{align}\n",
    "\n",
    "### Another form of expression\n",
    "\\begin{align}\n",
    "t_i &=\\frac{1}{\\sigma_i}\\Bigl[x_i - \\frac{S_x}{S}\\Bigr]\\\\\n",
    "S_{tt} & = \\sum_i t_i^2\\\\\n",
    "b & = \\frac{1}{S_{tt}} \\sum_i \\frac{t_i\\, y_i}{\\sigma_i}\\\\\n",
    "a & = \\frac{S_y -S_x\\,b}{S}\\\\\n",
    "\\end{align}"
   ]
  },
  {
   "cell_type": "code",
   "execution_count": 16,
   "metadata": {
    "collapsed": true
   },
   "outputs": [],
   "source": [
    "import numpy as np\n",
    "import matplotlib.pyplot as plt\n",
    "%matplotlib osx\n",
    "#plt.style.use('ggplot')\n",
    "import seaborn as sns"
   ]
  },
  {
   "cell_type": "code",
   "execution_count": 96,
   "metadata": {
    "collapsed": false
   },
   "outputs": [
    {
     "data": {
      "text/plain": [
       "<Container object of 3 artists>"
      ]
     },
     "execution_count": 96,
     "metadata": {},
     "output_type": "execute_result"
    }
   ],
   "source": [
    "x = np.linspace(1, 4, 100)\n",
    "sigma = 0.05\n",
    "\n",
    "\n",
    "def linearFit(x, y, sigma=1.0):\n",
    "    if type(sigma) is not list:\n",
    "        sigma = np.array([sigma] * len(x))\n",
    "    Sx = np.sum(x/sigma**2)\n",
    "    Sy = np.sum(y/sigma**2)\n",
    "    S = np.sum(1/sigma**2)\n",
    "    t = 1/sigma * (x - Sx/S)\n",
    "    Stt = np.sum(t**2)\n",
    "    b = 1.0/(Stt) * np.sum(t * y / sigma)\n",
    "    a = (Sy - Sx * b) / S\n",
    "\n",
    "    Sxx= np.sum(x**2/sigma**2)\n",
    "    Delta = S*Sxx - Sx**2\n",
    "    da = np.sqrt(Sxx/Delta)\n",
    "    db = np.sqrt(S/Delta)\n",
    "    return a, b, da, db\n",
    "\n",
    "aList = []\n",
    "bList = []\n",
    "daList = []\n",
    "dbList = []\n",
    "chisqList = []\n",
    "for i in xrange(10000):\n",
    "    y = 2*x + 1 + np.random.normal(0.0, scale = sigma, size = len(x))\n",
    "    a, b, da, db = linearFit(x, y, sigma)\n",
    "    chisq = np.sum((y - a - b*x)**2/sigma**2)\n",
    "    chisqList.append(chisq)\n",
    "    aList.append(a)\n",
    "    bList.append(b)\n",
    "    daList.append(da)\n",
    "    dbList.append(db)\n",
    "plt.close('all')   \n",
    "\n",
    "da = daList[0]\n",
    "db = dbList[0]\n",
    "fig = plt.figure(figsize=(12,6))\n",
    "ax1 = fig.add_subplot(121)\n",
    "na, bina = np.histogram(aList, bins=30)\n",
    "na = na/float(na.max())\n",
    "bina = (bina[:-1] + bina[1:])/2\n",
    "binsizea = bina[1] - bina[0]\n",
    "ax1.plot(bina + 0.5 * binsizea, na, linestyle='steps')\n",
    "ax1.plot(bina, np.exp(-(bina - 1.0)**2/(2*da**2)))\n",
    "ax1.set_xlabel('$a$')\n",
    "ax2 = fig.add_subplot(122)\n",
    "nb, binb = np.histogram(bList, bins=30)\n",
    "nb = nb/float(nb.max())\n",
    "binb = (binb[:-1] + binb[1:])/2\n",
    "binsizeb = binb[1] - binb[0]\n",
    "ax2.plot(binb + 0.5 * binsizeb, nb, linestyle='steps')\n",
    "ax2.plot(binb, np.exp(-(binb - 2.0)**2/(2*db**2)))\n",
    "ax2.set_xlabel('$b$')\n",
    "for ax in fig.axes:\n",
    "    ax.set_ylabel('P density')\n",
    "\n",
    "\n",
    "fig = plt.figure()\n",
    "ax = fig.add_subplot(111)\n",
    "ax.errorbar(aList, bList, xerr=da, yerr=db, fmt='.', ms=3, lw=0.1)\n"
   ]
  },
  {
   "cell_type": "markdown",
   "metadata": {},
   "source": [
    "## Error Estimation\n",
    "\\begin{equation}\n",
    "\\frac{\\partial{a}}{\\partial{y_i}} = \\frac{1}{\\Delta} [S_{xx}\\frac{1}{\\sigma_i^2}-S_x\\frac{x_i}{\\sigma_i^2}]\n",
    "\\end{equation}\n",
    "\\begin{align}\n",
    "\\sigma_a^2 &= \\frac{S_{xx}}{\\Delta}\\\\\n",
    "\\sigma_b^2 &= \\frac{S}{\\Delta}\n",
    "\\end{align}"
   ]
  },
  {
   "cell_type": "markdown",
   "metadata": {},
   "source": [
    "## Pearson's theorem\n",
    "Suppose there are $K$ independent varibles $Z_k$ with 0 mean Gaussian distribution\n",
    "$$\n",
    "x_K^2 = Q = \\sum_i Z_i^2\n",
    "$$\n",
    "$$\n",
    "P(x_K^2) = \\frac{1}{2^{K/2}\\Gamma(K/2)} \\, \\chi^{K/2 - 1} \\, \\exp(-\\chi/2)\n",
    "$$\n",
    "$P$ is called $\\chi^2$ distribution"
   ]
  },
  {
   "cell_type": "code",
   "execution_count": 97,
   "metadata": {
    "collapsed": false
   },
   "outputs": [
    {
     "data": {
      "text/plain": [
       "[<matplotlib.lines.Line2D at 0x128fe9e90>]"
      ]
     },
     "execution_count": 97,
     "metadata": {},
     "output_type": "execute_result"
    }
   ],
   "source": [
    "\n",
    "from scipy.special import gamma\n",
    "nchisq, binchisq = np.histogram(chisqList, bins=30)\n",
    "binsizechisq = binchisq[1] - binchisq[0]\n",
    "plt.bar(binchisq[:-1], nchisq/float(max(nchisq)), binsizechisq)\n",
    "\n",
    "def pearson(chisq, K):\n",
    "    return 1./(2**(K/2.) * gamma(K/2.)) * chisq**(K/2. - 1) * np.exp(-chisq/2)\n",
    "\n",
    "probchisq = pearson(binchisq, len(x) - 2)\n",
    "plt.plot(binchisq, probchisq/float(max(probchisq)))"
   ]
  },
  {
   "cell_type": "code",
   "execution_count": 90,
   "metadata": {
    "collapsed": false
   },
   "outputs": [
    {
     "data": {
      "text/plain": [
       "array([  7.25825071e-08,   4.16646041e-06,   2.14651903e-05,\n",
       "         6.05833301e-05,   1.29133817e-04,   2.33797789e-04,\n",
       "         3.80390548e-04,   5.73923855e-04,   8.18664736e-04,\n",
       "         1.11819096e-03,   1.47544336e-03,   1.89277515e-03,\n",
       "         2.37199839e-03,   2.91442769e-03,   3.52092143e-03,\n",
       "         4.19192042e-03,   4.92748430e-03,   5.72732569e-03,\n",
       "         6.59084229e-03,   7.51714693e-03,   8.50509578e-03,\n",
       "         9.55331470e-03,   1.06602240e-02,   1.18240615e-02,\n",
       "         1.30429041e-02,   1.43146879e-02,   1.56372268e-02,\n",
       "         1.70082303e-02,   1.84253194e-02,   1.98860420e-02,\n",
       "         2.13878863e-02])"
      ]
     },
     "execution_count": 90,
     "metadata": {},
     "output_type": "execute_result"
    }
   ],
   "source": []
  },
  {
   "cell_type": "code",
   "execution_count": 91,
   "metadata": {
    "collapsed": false
   },
   "outputs": [
    {
     "data": {
      "text/plain": [
       "8"
      ]
     },
     "execution_count": 91,
     "metadata": {},
     "output_type": "execute_result"
    }
   ],
   "source": [
    "K"
   ]
  },
  {
   "cell_type": "code",
   "execution_count": null,
   "metadata": {
    "collapsed": true
   },
   "outputs": [],
   "source": []
  }
 ],
 "metadata": {
  "kernelspec": {
   "display_name": "Python 2",
   "language": "python",
   "name": "python2"
  },
  "language_info": {
   "codemirror_mode": {
    "name": "ipython",
    "version": 2
   },
   "file_extension": ".py",
   "mimetype": "text/x-python",
   "name": "python",
   "nbconvert_exporter": "python",
   "pygments_lexer": "ipython2",
   "version": "2.7.11"
  }
 },
 "nbformat": 4,
 "nbformat_minor": 0
}
