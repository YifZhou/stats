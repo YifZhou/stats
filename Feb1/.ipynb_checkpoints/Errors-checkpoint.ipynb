{
 "cells": [
  {
   "cell_type": "markdown",
   "metadata": {},
   "source": [
    "## Error propagation\n",
    "Limitation of the error propagation formula\n",
    "1. Ignoring the high order term of Taylor expansion\n",
    "2. insymmetric distribution of the error\n",
    "3. ask for linear relationship\n",
    "\n",
    "\\begin{align}\n",
    "\\newcommand{\\fpartial}[2]{\\ensuremath{\\frac{\\partial{#1}}{\\partial{#2}}}\n",
    "x &= f(u, v)\\\\\n",
    "&=f(\\bar{u}, \\bar{v}) + (v - \\bar{v}) \\fpartial{f}{v} + (u - \\bar{u}) \\fpartial{f}{v}\n",
    "\n",
    "\\end{align}"
   ]
  },
  {
   "cell_type": "code",
   "execution_count": 19,
   "metadata": {
    "collapsed": false
   },
   "outputs": [
    {
     "name": "stdout",
     "output_type": "stream",
     "text": [
      "I=1.0, sigI=0.5\n",
      "Propagated Mean Mag: -0.000, MC Mean Mag: 0.1359\n",
      "Propagated Sig Mag: 0.543, MC Sig Mag: 0.7170\n"
     ]
    },
    {
     "name": "stderr",
     "output_type": "stream",
     "text": [
      "magErrors.py:11: RuntimeWarning: invalid value encountered in log10\n",
      "  return -2.5 * np.log10(I)\n"
     ]
    }
   ],
   "source": [
    "%matplotlib osx\n",
    "%run magErrors.py"
   ]
  },
  {
   "cell_type": "markdown",
   "metadata": {},
   "source": [
    "\\begin{align}\n",
    "x = f(u)\\\\\n",
    "P(x) = P(u) \\biggl|\\frac{du}{dx}\\biggr|\\\\\n",
    "\\end{align}\n",
    "\n",
    "-> propagation formula calls for linear transformation\n",
    "\n",
    "## confidential interval\n",
    "Most conventional way, two point have same probability density, and the total probability in the range equals to one sigma interval.\n",
    "\n",
    "\\begin{align}\n",
    "x = f(u)\\\\\n",
    "P(x) = P(u) \\biggl|\\frac{du}{dx}\\biggr|\\\\\n",
    "\\end{align}\n",
    "This transfomration needs one to one corresponding relationship between $u$ and $x$."
   ]
  },
  {
   "cell_type": "code",
   "execution_count": 27,
   "metadata": {
    "collapsed": false
   },
   "outputs": [],
   "source": [
    "%run u2x.py"
   ]
  },
  {
   "cell_type": "markdown",
   "metadata": {},
   "source": [
    "## logarithmic +x, -x error\n",
    "1. find the value that have maximum likelihood\n",
    "2. $N_p$ number of the point to start the calculation\n",
    "3. calculate $\\int P(x) dx$, as long as P(x) > Pm/Np, and determine Np"
   ]
  },
  {
   "cell_type": "code",
   "execution_count": null,
   "metadata": {
    "collapsed": true
   },
   "outputs": [],
   "source": []
  }
 ],
 "metadata": {
  "kernelspec": {
   "display_name": "Python 2",
   "language": "python",
   "name": "python2"
  },
  "language_info": {
   "codemirror_mode": {
    "name": "ipython",
    "version": 2
   },
   "file_extension": ".py",
   "mimetype": "text/x-python",
   "name": "python",
   "nbconvert_exporter": "python",
   "pygments_lexer": "ipython2",
   "version": "2.7.11"
  }
 },
 "nbformat": 4,
 "nbformat_minor": 0
}
