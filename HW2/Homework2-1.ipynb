{
 "cells": [
  {
   "cell_type": "code",
   "execution_count": 1,
   "metadata": {
    "collapsed": true
   },
   "outputs": [],
   "source": [
    "from __future__ import print_function, division\n",
    "import numpy as np\n",
    "import matplotlib.pyplot as plt\n",
    "import seaborn as sns\n",
    "\n",
    "%matplotlib osx"
   ]
  },
  {
   "cell_type": "code",
   "execution_count": 2,
   "metadata": {
    "collapsed": false
   },
   "outputs": [
    {
     "name": "stdout",
     "output_type": "stream",
     "text": [
      "11.074 1.130\n",
      "4.429 0.443\n"
     ]
    }
   ],
   "source": [
    "h = 1.0\n",
    "dh = 0.2\n",
    "R = 10\n",
    "dR = 0.2\n",
    "g = 9.81\n",
    "dg = 0.05\n",
    "\n",
    "ux = np.sqrt(g/(2*h)) * R/2\n",
    "uy = np.sqrt(2*g*h)\n",
    "\n",
    "dux = np.sqrt(g/(8*h)*dR**2 + R**2/(32*g*h)*dg**2 + g*R**2/(32*h**3)*dh**2)\n",
    "duy = np.sqrt(h/(2*g)*dg**2 + g/(2*h)*dh**2)\n",
    "\n",
    "print ('{0:.3f} {1:.3f}'.format(ux, dux))\n",
    "print ('{0:.3f} {1:.3f}'.format(uy, duy))"
   ]
  },
  {
   "cell_type": "code",
   "execution_count": 3,
   "metadata": {
    "collapsed": true
   },
   "outputs": [],
   "source": [
    "# part b monte carlo\n",
    "\n",
    "N = 10000\n",
    "hsample = np.random.normal(h, dh, N)\n",
    "Rsample = np.random.normal(R, dR, N)\n",
    "gsample = np.random.normal(g, dg, N)\n",
    "\n",
    "uxsample = Rsample/2 * np.sqrt(gsample/(2*hsample))\n",
    "uysample = np.sqrt(2*hsample*gsample)"
   ]
  },
  {
   "cell_type": "code",
   "execution_count": 4,
   "metadata": {
    "collapsed": true
   },
   "outputs": [],
   "source": [
    "plt.close('all')\n",
    "plt.plot(uxsample, uysample, linewidth=0, marker='o', ms=3)\n",
    "plt.xlabel('$u_x$ (m/s)')\n",
    "plt.ylabel('$u_y$ (m/s)')\n",
    "ax = plt.gca()\n",
    "plt.savefig('MC_joint.pdf')"
   ]
  },
  {
   "cell_type": "code",
   "execution_count": 7,
   "metadata": {
    "collapsed": false
   },
   "outputs": [],
   "source": [
    "# marginal distribution, ux\n",
    "def Gaussian(x, x0, sigma):\n",
    "    \"\"\" a normalized Gaussian Function\"\"\"\n",
    "    return np.exp(-(x - x0)**2 / (2*sigma**2))\n",
    "plt.close('all')\n",
    "fig = plt.figure(figsize=(12, 6))\n",
    "nBin = 20 # number of bars for marginal distribution\n",
    "nSigma = 3 # define the scope of the marginal distribution plot\n",
    "uxBars, uxEdges = np.histogram(uxsample, bins=np.linspace(ux - nSigma*dux, ux + nSigma*dux, nBin))\n",
    "uxBarWidth = uxEdges[1] - uxEdges[0]\n",
    "uxBars = uxBars / uxBars.max()\n",
    "ax_ux = fig.add_subplot(121)\n",
    "ax_ux.bar(uxEdges[:-1], uxBars, width = uxBarWidth)\n",
    "ux0 = np.linspace(ux - nSigma*dux, ux + nSigma*dux)\n",
    "ax_ux.plot(ux0, Gaussian(ux0, ux, dux))\n",
    "ax_ux.set_xlabel('$u_x$ (m/s)')\n",
    "uyBars, uyEdges = np.histogram(uysample, bins=np.linspace(uy - nSigma*duy, uy + nSigma*duy, nBin))\n",
    "uyBarWidth = uyEdges[1] - uyEdges[0]\n",
    "uyBars = uyBars / uyBars.max()\n",
    "ax_uy = fig.add_subplot(122)\n",
    "ax_uy.bar(uyEdges[:-1], uyBars, width = uyBarWidth)\n",
    "uy0 = np.linspace(uy - nSigma*duy, uy + nSigma*duy)\n",
    "ax_uy.plot(uy0, Gaussian(uy0, uy, duy))\n",
    "ax_uy.set_xlabel('$u_y$ (m/s)')\n",
    "\n",
    "for ax in fig.axes:\n",
    "    ax.set_ylabel('Normalized probability density')\n",
    "fig.tight_layout()\n",
    "plt.savefig('MC_MarginDist.pdf')"
   ]
  },
  {
   "cell_type": "code",
   "execution_count": null,
   "metadata": {
    "collapsed": true
   },
   "outputs": [],
   "source": []
  }
 ],
 "metadata": {
  "kernelspec": {
   "display_name": "Python 2",
   "language": "python",
   "name": "python2"
  },
  "language_info": {
   "codemirror_mode": {
    "name": "ipython",
    "version": 2
   },
   "file_extension": ".py",
   "mimetype": "text/x-python",
   "name": "python",
   "nbconvert_exporter": "python",
   "pygments_lexer": "ipython2",
   "version": "2.7.11"
  }
 },
 "nbformat": 4,
 "nbformat_minor": 0
}
