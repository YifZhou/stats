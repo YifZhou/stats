{
 "cells": [
  {
   "cell_type": "code",
   "execution_count": 1,
   "metadata": {
    "collapsed": true
   },
   "outputs": [],
   "source": [
    "from __future__ import print_function, division\n",
    "import numpy as np\n",
    "import matplotlib.pyplot as plt\n",
    "import seaborn as sns\n",
    "\n",
    "%matplotlib osx"
   ]
  },
  {
   "cell_type": "code",
   "execution_count": 2,
   "metadata": {
    "collapsed": false
   },
   "outputs": [
    {
     "name": "stdout",
     "output_type": "stream",
     "text": [
      "11.074 1.130\n",
      "4.429 0.443\n"
     ]
    }
   ],
   "source": [
    "h = 1.0\n",
    "dh = 0.2\n",
    "R = 10\n",
    "dR = 0.2\n",
    "g = 9.81\n",
    "dg = 0.05\n",
    "\n",
    "ux = np.sqrt(g/(2*h)) * R/2\n",
    "uy = np.sqrt(2*g*h)\n",
    "\n",
    "dux = np.sqrt(g/(8*h)*dR**2 + R**2/(32*g*h)*dg**2 + g*R**2/(32*h**3)*dh**2)\n",
    "duy = np.sqrt(h/(2*g)*dg**2 + g/(2*h)*dh**2)\n",
    "\n",
    "print ('{0:.3f} {1:.3f}'.format(ux, dux))\n",
    "print ('{0:.3f} {1:.3f}'.format(uy, duy))"
   ]
  },
  {
   "cell_type": "code",
   "execution_count": 3,
   "metadata": {
    "collapsed": true
   },
   "outputs": [],
   "source": [
    "# part b monte carlo\n",
    "\n",
    "N = 100000\n",
    "hsample = np.random.normal(h, dh, N)\n",
    "Rsample = np.random.normal(R, dR, N)\n",
    "gsample = np.random.normal(g, dg, N)\n",
    "\n",
    "uxsample = Rsample/2 * np.sqrt(gsample/(2*hsample))\n",
    "uysample = np.sqrt(2*hsample*gsample)"
   ]
  },
  {
   "cell_type": "code",
   "execution_count": 4,
   "metadata": {
    "collapsed": true
   },
   "outputs": [],
   "source": [
    "plt.close('all')\n",
    "plt.plot(uxsample, uysample, linewidth=0, marker='o', ms=3)\n",
    "plt.xlabel('$u_x$ (m/s)')\n",
    "plt.ylabel('$u_y$ (m/s)')\n",
    "ax = plt.gca()\n",
    "plt.savefig('MC_joint.pdf')"
   ]
  },
  {
   "cell_type": "code",
   "execution_count": 40,
   "metadata": {
    "collapsed": false
   },
   "outputs": [],
   "source": [
    "# marginal distribution, ux\n",
    "def Gaussian(x, x0, sigma):\n",
    "    \"\"\" a normalized Gaussian Function\"\"\"\n",
    "    return 1/np.sqrt(2*np.pi * sigma**2) * np.exp(-(x - x0)**2 / (2*sigma**2))\n",
    "plt.close('all')\n",
    "fig = plt.figure(figsize=(12, 6))\n",
    "nBin = 50 # number of bars for marginal distribution\n",
    "nSigma = 5 # define the scope of the marginal distribution plot\n",
    "uxBars, uxEdges = np.histogram(uxsample, \n",
    "                               bins=np.linspace(ux - nSigma*dux, \n",
    "                                                ux + nSigma*dux, nBin),\n",
    "                              normed=True)\n",
    "uxBarWidth = uxEdges[1] - uxEdges[0]\n",
    "uxBars = uxBars #/ uxBars.max()\n",
    "ax_ux = fig.add_subplot(121)\n",
    "ax_ux.bar(uxEdges[:-1], uxBars, width = uxBarWidth, alpha=0.6)\n",
    "ux0 = np.linspace(ux - nSigma*dux, ux + nSigma*dux, 200)\n",
    "ax_ux.plot(ux0, Gaussian(ux0, ux, dux))\n",
    "uyBars, uyEdges = np.histogram(uysample, \n",
    "                               bins=np.linspace(uy - nSigma*duy, \n",
    "                                                uy + nSigma*duy, nBin),\n",
    "                              normed=True)\n",
    "uyBarWidth = uyEdges[1] - uyEdges[0]\n",
    "uyBars = uyBars #/ uyBars.max()\n",
    "ax_uy = fig.add_subplot(122)\n",
    "ax_uy.bar(uyEdges[:-1], uyBars, width = uyBarWidth, alpha=0.6)\n",
    "uy0 = np.linspace(uy - nSigma*duy, uy + nSigma*duy, 200)\n",
    "ax_uy.plot(uy0, Gaussian(uy0, uy, duy))\n",
    "ax_ux.set_xlabel('$u_x$ (m/s)')\n",
    "ax_uy.set_xlabel('$u_y$ (m/s)')\n",
    "for ax in fig.axes:\n",
    "    ax.set_ylabel('Normalized probability density')\n",
    "plt.savefig('MC_MarginDist.pdf')"
   ]
  },
  {
   "cell_type": "code",
   "execution_count": 32,
   "metadata": {
    "collapsed": false
   },
   "outputs": [],
   "source": [
    "from scipy.integrate import dblquad\n",
    "def dPux(g, uy, ux):\n",
    "    h0 = 1.0\n",
    "    dh = 0.2\n",
    "    R0 = 10\n",
    "    dR = 0.2\n",
    "    g0 = 9.81\n",
    "    dg = 0.05\n",
    "    C = 1 / ((2 * np.pi)**(1.5)* dR * dh * dg) * 2 * uy**2 / g**2\n",
    "    exp1 = np.exp(-(uy**2 / (2 * g) - h0)**2/(2 * dh**2))\n",
    "    exp2 = np.exp(-(2 * ux * uy / g - R0)**2/(2 * dR**2))\n",
    "    exp3 = np.exp(-(g - g0)**2/(2 * dg**2))\n",
    "    return C * exp1 * exp2 * exp3\n",
    "\n",
    "def Pux(ux):\n",
    "    \"\"\"\n",
    "    numerical integration\n",
    "    \"\"\"\n",
    "    return dblquad(lambda g, uy: dPux(g, uy, ux),\n",
    "                  2.21, 6.64,\n",
    "                  lambda g: 9.56,\n",
    "                  lambda g: 10.06,\n",
    "                  )\n",
    "\n",
    "def Puy(uy):\n",
    "    return dblquad(lambda g, ux: dPux(g, uy, ux),\n",
    "                  5.42, 16.72,\n",
    "                  lambda g: 9.56,\n",
    "                  lambda g: 10.06,\n",
    "                  )"
   ]
  },
  {
   "cell_type": "code",
   "execution_count": 37,
   "metadata": {
    "collapsed": false
   },
   "outputs": [],
   "source": [
    "ux0 = np.linspace(ux - nSigma*dux, ux + nSigma*dux, 200)\n",
    "uy0 = np.linspace(uy - nSigma*duy, uy + nSigma*duy, 200)\n",
    "PuxJco = np.array([Pux(uxi)[0] for uxi in ux0 ])\n",
    "PuyJco = np.array([Puy(uyi)[0] for uyi in uy0 ])"
   ]
  },
  {
   "cell_type": "code",
   "execution_count": 41,
   "metadata": {
    "collapsed": false
   },
   "outputs": [],
   "source": [
    "# plot to compare Jacobian and MC\n",
    "fig = plt.figure(figsize=(12, 6))\n",
    "nBin = 50 # number of bars for marginal distribution\n",
    "nSigma = 5 # define the scope of the marginal distribution plot\n",
    "ax_ux = fig.add_subplot(121)\n",
    "ax_ux.bar(uxEdges[:-1], uxBars, width = uxBarWidth, alpha=0.6)\n",
    "# ax_ux.plot(ux0, PuxJco)\n",
    "ax_uy = fig.add_subplot(122)\n",
    "ax_uy.bar(uyEdges[:-1], uyBars, width = uyBarWidth, alpha=0.6)\n",
    "ax_uy.plot(uy0, PuyJco)\n",
    "ax_ux.set_xlabel('$u_x$ (m/s)')\n",
    "ax_uy.set_xlabel('$u_y$ (m/s)')\n",
    "for ax in fig.axes:\n",
    "    ax.set_ylabel('Normalized probability density')\n",
    "plt.savefig('MC_Jacobian.pdf')"
   ]
  },
  {
   "cell_type": "code",
   "execution_count": 45,
   "metadata": {
    "collapsed": false
   },
   "outputs": [],
   "source": [
    "# compare with Bayesian result\n",
    "ux2, puxBayes1, puxBayes2 = np.loadtxt('ux2.csv', delimiter=',', unpack=True)\n",
    "uy2, puyBayes1, puyBayes2 = np.loadtxt('uy2.csv', delimiter=',', unpack=True)\n",
    "\n",
    "def normP(binSize, Plist):\n",
    "    total = Plist.sum() * binSize\n",
    "    return Plist / total\n",
    "\n",
    "puxBayes1 = normP(ux2[1] - ux2[0], puxBayes1)\n",
    "puxBayes2 = normP(ux2[1] - ux2[0], puxBayes2)\n",
    "puyBayes1 = normP(uy2[1] - uy2[0], puyBayes1)\n",
    "puyBayes2 = normP(uy2[1] - uy2[0], puyBayes2)"
   ]
  },
  {
   "cell_type": "code",
   "execution_count": 49,
   "metadata": {
    "collapsed": false
   },
   "outputs": [],
   "source": [
    "plt.close('all')\n",
    "fig = plt.figure(figsize=(12, 6))\n",
    "nBin = 50 # number of bars for marginal distribution\n",
    "nSigma = 5 # define the scope of the marginal distribution plot\n",
    "ax_ux = fig.add_subplot(121)\n",
    "ax_ux.bar(uxEdges[:-1], uxBars, width = uxBarWidth, alpha=0.6)\n",
    "ax_ux.plot(ux0, PuxJco, label='analytical')\n",
    "ax_ux.plot(ux2, puxBayes1, label='flat prior')\n",
    "ax_ux.plot(ux2, puxBayes2, label='log prior', linestyle='--')\n",
    "ax_uy = fig.add_subplot(122)\n",
    "ax_uy.bar(uyEdges[:-1], uyBars, width = uyBarWidth, alpha=0.6)\n",
    "ax_uy.plot(uy0, PuyJco, label='analytical')\n",
    "ax_uy.plot(uy2, puyBayes1, label='flat prior')\n",
    "ax_uy.plot(uy2, puyBayes2, label='log prior', linestyle='--')\n",
    "ax_ux.set_xlabel('$u_x$ (m/s)')\n",
    "ax_uy.set_xlabel('$u_y$ (m/s)')\n",
    "for ax in fig.axes:\n",
    "    ax.set_ylabel('Normalized probability density')\n",
    "    ax.legend(loc='best')\n",
    "plt.savefig('MC_Bayesian.pdf')"
   ]
  },
  {
   "cell_type": "code",
   "execution_count": null,
   "metadata": {
    "collapsed": true
   },
   "outputs": [],
   "source": []
  }
 ],
 "metadata": {
  "kernelspec": {
   "display_name": "Python 2",
   "language": "python",
   "name": "python2"
  },
  "language_info": {
   "codemirror_mode": {
    "name": "ipython",
    "version": 2
   },
   "file_extension": ".py",
   "mimetype": "text/x-python",
   "name": "python",
   "nbconvert_exporter": "python",
   "pygments_lexer": "ipython2",
   "version": "2.7.11"
  },
  "latex_envs": {
   "bibliofile": "biblio.bib",
   "cite_by": "apalike",
   "current_citInitial": 1,
   "eqLabelWithNumbers": true,
   "eqNumInitial": 0
  }
 },
 "nbformat": 4,
 "nbformat_minor": 0
}
