{
 "cells": [
  {
   "cell_type": "code",
   "execution_count": 37,
   "metadata": {
    "collapsed": true
   },
   "outputs": [],
   "source": [
    "from __future__ import division, print_function\n",
    "import numpy as np\n",
    "import matplotlib.pyplot as plt\n",
    "from scipy.misc import comb\n",
    "%matplotlib osx\n",
    "plt.style.use('paper')"
   ]
  },
  {
   "cell_type": "code",
   "execution_count": 15,
   "metadata": {
    "collapsed": false
   },
   "outputs": [
    {
     "data": {
      "text/plain": [
       "<matplotlib.text.Text at 0x10b521490>"
      ]
     },
     "execution_count": 15,
     "metadata": {},
     "output_type": "execute_result"
    }
   ],
   "source": [
    "def pBinom(N, k, p):\n",
    "    \"\"\"probability of binomial distribution\n",
    "    the probability of choose k from N\"\"\"\n",
    "    return comb(N, k) * p**k * (1-p)**(N-k)\n",
    "\n",
    "def pBinomCumulate(N, k, p):\n",
    "    \"\"\"cumulate binomial likelihood\n",
    "    the sum of probability of k > k0\"\"\"\n",
    "    probList = [pBinom(N, k_i, p) for k_i in xrange(k, N+1)]\n",
    "    return sum(probList)\n",
    "\n",
    "Nmin = 350\n",
    "Nmax = 500\n",
    "p=0.1\n",
    "k_0=30\n",
    "# NList = np.logspace(2, 3, 20).astype(int)\n",
    "NList = np.array(range(Nmin, Nmax))\n",
    "pBinomCumList = [pBinomCumulate(N_i, k_0, p) for N_i in NList]\n",
    "plt.close('all')\n",
    "plt.plot(NList, pBinomCumList, lw=2)\n",
    "plt.axhline(0.90, lw=1.5, color='k')\n",
    "plt.axhline(0.99, lw=1.5, color='k')\n",
    "plt.axvline()\n",
    "plt.xlabel('Sample size')\n",
    "plt.ylabel('$P(n\\ge 30)$')"
   ]
  },
  {
   "cell_type": "code",
   "execution_count": 22,
   "metadata": {
    "collapsed": false
   },
   "outputs": [
    {
     "data": {
      "text/plain": [
       "0.99033996504397781"
      ]
     },
     "execution_count": 22,
     "metadata": {},
     "output_type": "execute_result"
    }
   ],
   "source": [
    "pBinomCumulate(368, 30, 0.1)\n",
    "pBinomCumulate(435, 30, 0.1)"
   ]
  },
  {
   "cell_type": "code",
   "execution_count": 27,
   "metadata": {
    "collapsed": true
   },
   "outputs": [],
   "source": [
    "from scipy.optimize import root\n",
    "\n",
    "def df0(epsi0):\n",
    "    \"\"\"find epsi0 that f get maximum\"\"\"\n",
    "    return 2 * np.exp(epsi0) - 2 - np.exp(epsi0) * epsi0\n",
    "\n",
    "epsiSol = root(df0, 1.5)"
   ]
  },
  {
   "cell_type": "code",
   "execution_count": 31,
   "metadata": {
    "collapsed": false
   },
   "outputs": [],
   "source": [
    "epsi0 = epsiSol.x"
   ]
  },
  {
   "cell_type": "code",
   "execution_count": 33,
   "metadata": {
    "collapsed": false
   },
   "outputs": [
    {
     "data": {
      "text/plain": [
       "[<matplotlib.lines.Line2D at 0x10d993550>]"
      ]
     },
     "execution_count": 33,
     "metadata": {},
     "output_type": "execute_result"
    }
   ],
   "source": [
    "def BlackBody(epsi):\n",
    "    return epsi**2/(np.exp(epsi) -1)\n",
    "\n",
    "epsiList = np.linspace(0.001, 5, 100)\n",
    "plt.clf()\n",
    "plt.plot(epsiList, BlackBody(epsiList), lw=2)\n",
    "plt.plot(1.59362, BlackBody(1.59362), 'o')"
   ]
  },
  {
   "cell_type": "code",
   "execution_count": 34,
   "metadata": {
    "collapsed": false
   },
   "outputs": [
    {
     "data": {
      "text/plain": [
       "[<matplotlib.lines.Line2D at 0x10da93f50>]"
      ]
     },
     "execution_count": 34,
     "metadata": {},
     "output_type": "execute_result"
    }
   ],
   "source": [
    "def normedBlackBody(epsi):\n",
    "    return BlackBody(epsi) / BlackBody(epsi0)\n",
    "\n",
    "plt.clf()\n",
    "plt.plot(epsiList, normedBlackBody(epsiList), lw=2)"
   ]
  },
  {
   "cell_type": "code",
   "execution_count": 40,
   "metadata": {
    "collapsed": false
   },
   "outputs": [
    {
     "name": "stdout",
     "output_type": "stream",
     "text": [
      "0.677618\n"
     ]
    }
   ],
   "source": [
    "e_min = 0.1\n",
    "e_max = 5.0\n",
    "N_photon = int(1e6)\n",
    "photons = np.random.uniform(e_min, e_max, N_photon) # generate photon with random energy betwee min and max\n",
    "photons_BB = normedBlackBody(photons)\n",
    "randBB = np.random.uniform(0, 1, N_photon) # second random var to judge whether reject or keep photon\n",
    "photons_eff = photons[randBB <= photons_BB]\n",
    "efficiency = len(photons_eff)/N_photon\n",
    "print(efficiency)"
   ]
  },
  {
   "cell_type": "code",
   "execution_count": 51,
   "metadata": {
    "collapsed": false
   },
   "outputs": [],
   "source": [
    "fig = plt.figure()\n",
    "ax = fig.add_subplot(111)\n",
    "BB_samp = np.linspace(e_min, e_max, 1000)\n",
    "hist, bins = np.histogram(photons_eff, bins=np.linspace(e_min, e_max, 50))\n",
    "dbin = bins[1] - bins[0] # bin width\n",
    "# matplotbar bar plot default align to the left edge\n",
    "ax.bar(bins[:-1], hist/hist.max(), width=dbin, alpha=0.8) \n",
    "ax.plot(BB_samp, normedBlackBody(BB_samp), lw=2)\n",
    "ax.set_xlabel('$\\epsilon$')\n",
    "ax.set_ylabel('Normalized probablity density')              \n",
    "plt.savefig('bbdist.pdf')"
   ]
  },
  {
   "cell_type": "code",
   "execution_count": 43,
   "metadata": {
    "collapsed": false
   },
   "outputs": [
    {
     "data": {
      "text/plain": [
       "(49, 50)"
      ]
     },
     "execution_count": 43,
     "metadata": {},
     "output_type": "execute_result"
    }
   ],
   "source": [
    "hist, bins = np.histogram(photons_eff, bins = np.linspace(e_min, e_max, 50))\n",
    "len(hist), len(bins)"
   ]
  },
  {
   "cell_type": "code",
   "execution_count": 52,
   "metadata": {
    "collapsed": true
   },
   "outputs": [],
   "source": [
    "plt.close('all')"
   ]
  },
  {
   "cell_type": "code",
   "execution_count": null,
   "metadata": {
    "collapsed": true
   },
   "outputs": [],
   "source": []
  }
 ],
 "metadata": {
  "kernelspec": {
   "display_name": "Python 2",
   "language": "python",
   "name": "python2"
  },
  "language_info": {
   "codemirror_mode": {
    "name": "ipython",
    "version": 2
   },
   "file_extension": ".py",
   "mimetype": "text/x-python",
   "name": "python",
   "nbconvert_exporter": "python",
   "pygments_lexer": "ipython2",
   "version": "2.7.11"
  }
 },
 "nbformat": 4,
 "nbformat_minor": 0
}
